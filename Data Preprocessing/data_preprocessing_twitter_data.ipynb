{
  "nbformat": 4,
  "nbformat_minor": 0,
  "metadata": {
    "colab": {
      "provenance": []
    },
    "kernelspec": {
      "name": "python3",
      "display_name": "Python 3"
    },
    "language_info": {
      "name": "python"
    }
  },
  "cells": [
    {
      "cell_type": "markdown",
      "source": [
        "# Cleaning Twitter Text Data"
      ],
      "metadata": {
        "id": "bVxs5knI4pAs"
      }
    },
    {
      "cell_type": "markdown",
      "source": [
        "## Importing necessary libraries"
      ],
      "metadata": {
        "id": "-zWqfnF54vJM"
      }
    },
    {
      "cell_type": "code",
      "source": [
        "!pip install contractions"
      ],
      "metadata": {
        "id": "HiHdBBiT3-jQ",
        "colab": {
          "base_uri": "https://localhost:8080/"
        },
        "outputId": "f92bec88-81b5-4b7a-a346-235c44448b84"
      },
      "execution_count": null,
      "outputs": [
        {
          "output_type": "stream",
          "name": "stdout",
          "text": [
            "Requirement already satisfied: contractions in /usr/local/lib/python3.10/dist-packages (0.1.73)\n",
            "Requirement already satisfied: textsearch>=0.0.21 in /usr/local/lib/python3.10/dist-packages (from contractions) (0.0.24)\n",
            "Requirement already satisfied: anyascii in /usr/local/lib/python3.10/dist-packages (from textsearch>=0.0.21->contractions) (0.3.2)\n",
            "Requirement already satisfied: pyahocorasick in /usr/local/lib/python3.10/dist-packages (from textsearch>=0.0.21->contractions) (2.0.0)\n"
          ]
        }
      ]
    },
    {
      "cell_type": "code",
      "source": [
        "!pip install nltk\n",
        "!pip install spacy"
      ],
      "metadata": {
        "id": "2ETs6LRbL19H",
        "colab": {
          "base_uri": "https://localhost:8080/"
        },
        "outputId": "a5ff6143-3db9-412b-d40c-7c8a4a266206"
      },
      "execution_count": null,
      "outputs": [
        {
          "output_type": "stream",
          "name": "stdout",
          "text": [
            "Requirement already satisfied: nltk in /usr/local/lib/python3.10/dist-packages (3.8.1)\n",
            "Requirement already satisfied: click in /usr/local/lib/python3.10/dist-packages (from nltk) (8.1.6)\n",
            "Requirement already satisfied: joblib in /usr/local/lib/python3.10/dist-packages (from nltk) (1.3.1)\n",
            "Requirement already satisfied: regex>=2021.8.3 in /usr/local/lib/python3.10/dist-packages (from nltk) (2022.10.31)\n",
            "Requirement already satisfied: tqdm in /usr/local/lib/python3.10/dist-packages (from nltk) (4.65.0)\n",
            "Requirement already satisfied: spacy in /usr/local/lib/python3.10/dist-packages (3.5.4)\n",
            "Requirement already satisfied: spacy-legacy<3.1.0,>=3.0.11 in /usr/local/lib/python3.10/dist-packages (from spacy) (3.0.12)\n",
            "Requirement already satisfied: spacy-loggers<2.0.0,>=1.0.0 in /usr/local/lib/python3.10/dist-packages (from spacy) (1.0.4)\n",
            "Requirement already satisfied: murmurhash<1.1.0,>=0.28.0 in /usr/local/lib/python3.10/dist-packages (from spacy) (1.0.9)\n",
            "Requirement already satisfied: cymem<2.1.0,>=2.0.2 in /usr/local/lib/python3.10/dist-packages (from spacy) (2.0.7)\n",
            "Requirement already satisfied: preshed<3.1.0,>=3.0.2 in /usr/local/lib/python3.10/dist-packages (from spacy) (3.0.8)\n",
            "Requirement already satisfied: thinc<8.2.0,>=8.1.8 in /usr/local/lib/python3.10/dist-packages (from spacy) (8.1.10)\n",
            "Requirement already satisfied: wasabi<1.2.0,>=0.9.1 in /usr/local/lib/python3.10/dist-packages (from spacy) (1.1.2)\n",
            "Requirement already satisfied: srsly<3.0.0,>=2.4.3 in /usr/local/lib/python3.10/dist-packages (from spacy) (2.4.7)\n",
            "Requirement already satisfied: catalogue<2.1.0,>=2.0.6 in /usr/local/lib/python3.10/dist-packages (from spacy) (2.0.8)\n",
            "Requirement already satisfied: typer<0.10.0,>=0.3.0 in /usr/local/lib/python3.10/dist-packages (from spacy) (0.9.0)\n",
            "Requirement already satisfied: pathy>=0.10.0 in /usr/local/lib/python3.10/dist-packages (from spacy) (0.10.2)\n",
            "Requirement already satisfied: smart-open<7.0.0,>=5.2.1 in /usr/local/lib/python3.10/dist-packages (from spacy) (6.3.0)\n",
            "Requirement already satisfied: tqdm<5.0.0,>=4.38.0 in /usr/local/lib/python3.10/dist-packages (from spacy) (4.65.0)\n",
            "Requirement already satisfied: numpy>=1.15.0 in /usr/local/lib/python3.10/dist-packages (from spacy) (1.22.4)\n",
            "Requirement already satisfied: requests<3.0.0,>=2.13.0 in /usr/local/lib/python3.10/dist-packages (from spacy) (2.27.1)\n",
            "Requirement already satisfied: pydantic!=1.8,!=1.8.1,<1.11.0,>=1.7.4 in /usr/local/lib/python3.10/dist-packages (from spacy) (1.10.11)\n",
            "Requirement already satisfied: jinja2 in /usr/local/lib/python3.10/dist-packages (from spacy) (3.1.2)\n",
            "Requirement already satisfied: setuptools in /usr/local/lib/python3.10/dist-packages (from spacy) (67.7.2)\n",
            "Requirement already satisfied: packaging>=20.0 in /usr/local/lib/python3.10/dist-packages (from spacy) (23.1)\n",
            "Requirement already satisfied: langcodes<4.0.0,>=3.2.0 in /usr/local/lib/python3.10/dist-packages (from spacy) (3.3.0)\n",
            "Requirement already satisfied: typing-extensions>=4.2.0 in /usr/local/lib/python3.10/dist-packages (from pydantic!=1.8,!=1.8.1,<1.11.0,>=1.7.4->spacy) (4.7.1)\n",
            "Requirement already satisfied: urllib3<1.27,>=1.21.1 in /usr/local/lib/python3.10/dist-packages (from requests<3.0.0,>=2.13.0->spacy) (1.26.16)\n",
            "Requirement already satisfied: certifi>=2017.4.17 in /usr/local/lib/python3.10/dist-packages (from requests<3.0.0,>=2.13.0->spacy) (2023.5.7)\n",
            "Requirement already satisfied: charset-normalizer~=2.0.0 in /usr/local/lib/python3.10/dist-packages (from requests<3.0.0,>=2.13.0->spacy) (2.0.12)\n",
            "Requirement already satisfied: idna<4,>=2.5 in /usr/local/lib/python3.10/dist-packages (from requests<3.0.0,>=2.13.0->spacy) (3.4)\n",
            "Requirement already satisfied: blis<0.8.0,>=0.7.8 in /usr/local/lib/python3.10/dist-packages (from thinc<8.2.0,>=8.1.8->spacy) (0.7.9)\n",
            "Requirement already satisfied: confection<1.0.0,>=0.0.1 in /usr/local/lib/python3.10/dist-packages (from thinc<8.2.0,>=8.1.8->spacy) (0.1.0)\n",
            "Requirement already satisfied: click<9.0.0,>=7.1.1 in /usr/local/lib/python3.10/dist-packages (from typer<0.10.0,>=0.3.0->spacy) (8.1.6)\n",
            "Requirement already satisfied: MarkupSafe>=2.0 in /usr/local/lib/python3.10/dist-packages (from jinja2->spacy) (2.1.3)\n"
          ]
        }
      ]
    },
    {
      "cell_type": "code",
      "source": [
        "!pip install textblob"
      ],
      "metadata": {
        "colab": {
          "base_uri": "https://localhost:8080/"
        },
        "id": "UfTRNQ3waW0K",
        "outputId": "7f57a917-d8e2-4b0d-89f6-e55ae6f026fb"
      },
      "execution_count": null,
      "outputs": [
        {
          "output_type": "stream",
          "name": "stdout",
          "text": [
            "Requirement already satisfied: textblob in /usr/local/lib/python3.10/dist-packages (0.17.1)\n",
            "Requirement already satisfied: nltk>=3.1 in /usr/local/lib/python3.10/dist-packages (from textblob) (3.8.1)\n",
            "Requirement already satisfied: click in /usr/local/lib/python3.10/dist-packages (from nltk>=3.1->textblob) (8.1.6)\n",
            "Requirement already satisfied: joblib in /usr/local/lib/python3.10/dist-packages (from nltk>=3.1->textblob) (1.3.1)\n",
            "Requirement already satisfied: regex>=2021.8.3 in /usr/local/lib/python3.10/dist-packages (from nltk>=3.1->textblob) (2022.10.31)\n",
            "Requirement already satisfied: tqdm in /usr/local/lib/python3.10/dist-packages (from nltk>=3.1->textblob) (4.65.0)\n"
          ]
        }
      ]
    },
    {
      "cell_type": "code",
      "execution_count": null,
      "metadata": {
        "id": "cIlRk7uotRON"
      },
      "outputs": [],
      "source": [
        "#Importing the library\n",
        "\n",
        "import pandas as pd\n",
        "import string\n",
        "import re\n",
        "import contractions\n",
        "import matplotlib.pyplot as plt\n",
        "import seaborn as sns\n",
        "import nltk\n",
        "from nltk.corpus import stopwords\n",
        "import spacy\n",
        "from spacy.lang.en.stop_words import STOP_WORDS"
      ]
    },
    {
      "cell_type": "code",
      "source": [
        "import nltk\n",
        "from nltk.corpus import stopwords\n",
        "nltk.download('stopwords')"
      ],
      "metadata": {
        "colab": {
          "base_uri": "https://localhost:8080/"
        },
        "id": "_a2s-tZTN7Gz",
        "outputId": "2aa425bf-7f81-46e2-c90a-1a6663a4ecdc"
      },
      "execution_count": null,
      "outputs": [
        {
          "output_type": "stream",
          "name": "stderr",
          "text": [
            "[nltk_data] Downloading package stopwords to /root/nltk_data...\n",
            "[nltk_data]   Package stopwords is already up-to-date!\n"
          ]
        },
        {
          "output_type": "execute_result",
          "data": {
            "text/plain": [
              "True"
            ]
          },
          "metadata": {},
          "execution_count": 55
        }
      ]
    },
    {
      "cell_type": "code",
      "source": [
        "# Reading the datset into a dataframe\n",
        "twitter_df = pd.read_csv(\"/content/drive/MyDrive/MSC Data science/Thesis/Final data/twitter.csv\")"
      ],
      "metadata": {
        "id": "9k7ggM3tybJy"
      },
      "execution_count": null,
      "outputs": []
    },
    {
      "cell_type": "code",
      "source": [
        "# Displaying the data\n",
        "twitter_df.head()"
      ],
      "metadata": {
        "colab": {
          "base_uri": "https://localhost:8080/",
          "height": 206
        },
        "id": "BWx0eRKVyuEn",
        "outputId": "3bd42ab0-6f67-4e07-b17a-30151c3031a5"
      },
      "execution_count": null,
      "outputs": [
        {
          "output_type": "execute_result",
          "data": {
            "text/plain": [
              "                                                text          label\n",
              "0  Here at home. Neighbors pick on my family and ...  cyberbullying\n",
              "1  Being bullied at school: High-achieving boys u...  cyberbullying\n",
              "2  There was a girl in my class in 6th grade who ...  cyberbullying\n",
              "3  He’s probably a white gay kid from some suburb...  cyberbullying\n",
              "4  You are pushed ti resorting. Treating thr bull...  cyberbullying"
            ],
            "text/html": [
              "\n",
              "\n",
              "  <div id=\"df-c17544e0-7628-4fd2-9611-611fd8661a80\">\n",
              "    <div class=\"colab-df-container\">\n",
              "      <div>\n",
              "<style scoped>\n",
              "    .dataframe tbody tr th:only-of-type {\n",
              "        vertical-align: middle;\n",
              "    }\n",
              "\n",
              "    .dataframe tbody tr th {\n",
              "        vertical-align: top;\n",
              "    }\n",
              "\n",
              "    .dataframe thead th {\n",
              "        text-align: right;\n",
              "    }\n",
              "</style>\n",
              "<table border=\"1\" class=\"dataframe\">\n",
              "  <thead>\n",
              "    <tr style=\"text-align: right;\">\n",
              "      <th></th>\n",
              "      <th>text</th>\n",
              "      <th>label</th>\n",
              "    </tr>\n",
              "  </thead>\n",
              "  <tbody>\n",
              "    <tr>\n",
              "      <th>0</th>\n",
              "      <td>Here at home. Neighbors pick on my family and ...</td>\n",
              "      <td>cyberbullying</td>\n",
              "    </tr>\n",
              "    <tr>\n",
              "      <th>1</th>\n",
              "      <td>Being bullied at school: High-achieving boys u...</td>\n",
              "      <td>cyberbullying</td>\n",
              "    </tr>\n",
              "    <tr>\n",
              "      <th>2</th>\n",
              "      <td>There was a girl in my class in 6th grade who ...</td>\n",
              "      <td>cyberbullying</td>\n",
              "    </tr>\n",
              "    <tr>\n",
              "      <th>3</th>\n",
              "      <td>He’s probably a white gay kid from some suburb...</td>\n",
              "      <td>cyberbullying</td>\n",
              "    </tr>\n",
              "    <tr>\n",
              "      <th>4</th>\n",
              "      <td>You are pushed ti resorting. Treating thr bull...</td>\n",
              "      <td>cyberbullying</td>\n",
              "    </tr>\n",
              "  </tbody>\n",
              "</table>\n",
              "</div>\n",
              "      <button class=\"colab-df-convert\" onclick=\"convertToInteractive('df-c17544e0-7628-4fd2-9611-611fd8661a80')\"\n",
              "              title=\"Convert this dataframe to an interactive table.\"\n",
              "              style=\"display:none;\">\n",
              "\n",
              "  <svg xmlns=\"http://www.w3.org/2000/svg\" height=\"24px\"viewBox=\"0 0 24 24\"\n",
              "       width=\"24px\">\n",
              "    <path d=\"M0 0h24v24H0V0z\" fill=\"none\"/>\n",
              "    <path d=\"M18.56 5.44l.94 2.06.94-2.06 2.06-.94-2.06-.94-.94-2.06-.94 2.06-2.06.94zm-11 1L8.5 8.5l.94-2.06 2.06-.94-2.06-.94L8.5 2.5l-.94 2.06-2.06.94zm10 10l.94 2.06.94-2.06 2.06-.94-2.06-.94-.94-2.06-.94 2.06-2.06.94z\"/><path d=\"M17.41 7.96l-1.37-1.37c-.4-.4-.92-.59-1.43-.59-.52 0-1.04.2-1.43.59L10.3 9.45l-7.72 7.72c-.78.78-.78 2.05 0 2.83L4 21.41c.39.39.9.59 1.41.59.51 0 1.02-.2 1.41-.59l7.78-7.78 2.81-2.81c.8-.78.8-2.07 0-2.86zM5.41 20L4 18.59l7.72-7.72 1.47 1.35L5.41 20z\"/>\n",
              "  </svg>\n",
              "      </button>\n",
              "\n",
              "\n",
              "\n",
              "    <div id=\"df-21b46230-ea14-4b88-9236-9a54342dca28\">\n",
              "      <button class=\"colab-df-quickchart\" onclick=\"quickchart('df-21b46230-ea14-4b88-9236-9a54342dca28')\"\n",
              "              title=\"Suggest charts.\"\n",
              "              style=\"display:none;\">\n",
              "\n",
              "<svg xmlns=\"http://www.w3.org/2000/svg\" height=\"24px\"viewBox=\"0 0 24 24\"\n",
              "     width=\"24px\">\n",
              "    <g>\n",
              "        <path d=\"M19 3H5c-1.1 0-2 .9-2 2v14c0 1.1.9 2 2 2h14c1.1 0 2-.9 2-2V5c0-1.1-.9-2-2-2zM9 17H7v-7h2v7zm4 0h-2V7h2v10zm4 0h-2v-4h2v4z\"/>\n",
              "    </g>\n",
              "</svg>\n",
              "      </button>\n",
              "    </div>\n",
              "\n",
              "<style>\n",
              "  .colab-df-quickchart {\n",
              "    background-color: #E8F0FE;\n",
              "    border: none;\n",
              "    border-radius: 50%;\n",
              "    cursor: pointer;\n",
              "    display: none;\n",
              "    fill: #1967D2;\n",
              "    height: 32px;\n",
              "    padding: 0 0 0 0;\n",
              "    width: 32px;\n",
              "  }\n",
              "\n",
              "  .colab-df-quickchart:hover {\n",
              "    background-color: #E2EBFA;\n",
              "    box-shadow: 0px 1px 2px rgba(60, 64, 67, 0.3), 0px 1px 3px 1px rgba(60, 64, 67, 0.15);\n",
              "    fill: #174EA6;\n",
              "  }\n",
              "\n",
              "  [theme=dark] .colab-df-quickchart {\n",
              "    background-color: #3B4455;\n",
              "    fill: #D2E3FC;\n",
              "  }\n",
              "\n",
              "  [theme=dark] .colab-df-quickchart:hover {\n",
              "    background-color: #434B5C;\n",
              "    box-shadow: 0px 1px 3px 1px rgba(0, 0, 0, 0.15);\n",
              "    filter: drop-shadow(0px 1px 2px rgba(0, 0, 0, 0.3));\n",
              "    fill: #FFFFFF;\n",
              "  }\n",
              "</style>\n",
              "\n",
              "    <script>\n",
              "      async function quickchart(key) {\n",
              "        const containerElement = document.querySelector('#' + key);\n",
              "        const charts = await google.colab.kernel.invokeFunction(\n",
              "            'suggestCharts', [key], {});\n",
              "      }\n",
              "    </script>\n",
              "\n",
              "      <script>\n",
              "\n",
              "function displayQuickchartButton(domScope) {\n",
              "  let quickchartButtonEl =\n",
              "    domScope.querySelector('#df-21b46230-ea14-4b88-9236-9a54342dca28 button.colab-df-quickchart');\n",
              "  quickchartButtonEl.style.display =\n",
              "    google.colab.kernel.accessAllowed ? 'block' : 'none';\n",
              "}\n",
              "\n",
              "        displayQuickchartButton(document);\n",
              "      </script>\n",
              "      <style>\n",
              "    .colab-df-container {\n",
              "      display:flex;\n",
              "      flex-wrap:wrap;\n",
              "      gap: 12px;\n",
              "    }\n",
              "\n",
              "    .colab-df-convert {\n",
              "      background-color: #E8F0FE;\n",
              "      border: none;\n",
              "      border-radius: 50%;\n",
              "      cursor: pointer;\n",
              "      display: none;\n",
              "      fill: #1967D2;\n",
              "      height: 32px;\n",
              "      padding: 0 0 0 0;\n",
              "      width: 32px;\n",
              "    }\n",
              "\n",
              "    .colab-df-convert:hover {\n",
              "      background-color: #E2EBFA;\n",
              "      box-shadow: 0px 1px 2px rgba(60, 64, 67, 0.3), 0px 1px 3px 1px rgba(60, 64, 67, 0.15);\n",
              "      fill: #174EA6;\n",
              "    }\n",
              "\n",
              "    [theme=dark] .colab-df-convert {\n",
              "      background-color: #3B4455;\n",
              "      fill: #D2E3FC;\n",
              "    }\n",
              "\n",
              "    [theme=dark] .colab-df-convert:hover {\n",
              "      background-color: #434B5C;\n",
              "      box-shadow: 0px 1px 3px 1px rgba(0, 0, 0, 0.15);\n",
              "      filter: drop-shadow(0px 1px 2px rgba(0, 0, 0, 0.3));\n",
              "      fill: #FFFFFF;\n",
              "    }\n",
              "  </style>\n",
              "\n",
              "      <script>\n",
              "        const buttonEl =\n",
              "          document.querySelector('#df-c17544e0-7628-4fd2-9611-611fd8661a80 button.colab-df-convert');\n",
              "        buttonEl.style.display =\n",
              "          google.colab.kernel.accessAllowed ? 'block' : 'none';\n",
              "\n",
              "        async function convertToInteractive(key) {\n",
              "          const element = document.querySelector('#df-c17544e0-7628-4fd2-9611-611fd8661a80');\n",
              "          const dataTable =\n",
              "            await google.colab.kernel.invokeFunction('convertToInteractive',\n",
              "                                                     [key], {});\n",
              "          if (!dataTable) return;\n",
              "\n",
              "          const docLinkHtml = 'Like what you see? Visit the ' +\n",
              "            '<a target=\"_blank\" href=https://colab.research.google.com/notebooks/data_table.ipynb>data table notebook</a>'\n",
              "            + ' to learn more about interactive tables.';\n",
              "          element.innerHTML = '';\n",
              "          dataTable['output_type'] = 'display_data';\n",
              "          await google.colab.output.renderOutput(dataTable, element);\n",
              "          const docLink = document.createElement('div');\n",
              "          docLink.innerHTML = docLinkHtml;\n",
              "          element.appendChild(docLink);\n",
              "        }\n",
              "      </script>\n",
              "    </div>\n",
              "  </div>\n"
            ]
          },
          "metadata": {},
          "execution_count": 57
        }
      ]
    },
    {
      "cell_type": "markdown",
      "source": [
        "## Data Cleaning/Pre-processing"
      ],
      "metadata": {
        "id": "IzjzuM8v4_Vp"
      }
    },
    {
      "cell_type": "code",
      "source": [
        "#Lets check for duplicates\n",
        "twitter_df.duplicated().sum()"
      ],
      "metadata": {
        "colab": {
          "base_uri": "https://localhost:8080/"
        },
        "id": "udIKtDa1q_lM",
        "outputId": "069cecf2-2e73-4376-e45e-8545d2b92566"
      },
      "execution_count": null,
      "outputs": [
        {
          "output_type": "execute_result",
          "data": {
            "text/plain": [
              "158"
            ]
          },
          "metadata": {},
          "execution_count": 58
        }
      ]
    },
    {
      "cell_type": "markdown",
      "source": [
        "**We have 158 duplicate tweets hence we will remove them.**"
      ],
      "metadata": {
        "id": "ksh18LRBrFMK"
      }
    },
    {
      "cell_type": "code",
      "source": [
        "# Lets filter them out in a new dataframe\n",
        "twitter_df = twitter_df[~twitter_df.duplicated()]"
      ],
      "metadata": {
        "id": "JL9v8Ez8rAPy"
      },
      "execution_count": null,
      "outputs": []
    },
    {
      "cell_type": "markdown",
      "source": [
        "**Checking if classes are balanced**"
      ],
      "metadata": {
        "id": "wZ6yIO7OraIk"
      }
    },
    {
      "cell_type": "code",
      "source": [
        "twitter_df.label.value_counts()"
      ],
      "metadata": {
        "colab": {
          "base_uri": "https://localhost:8080/"
        },
        "id": "Pma9RXmMrZhz",
        "outputId": "04260982-aa5f-45f7-9e00-ef263cf5fe2c"
      },
      "execution_count": null,
      "outputs": [
        {
          "output_type": "execute_result",
          "data": {
            "text/plain": [
              "cyberbullying        39589\n",
              "non-cyberbullying     8000\n",
              "Name: label, dtype: int64"
            ]
          },
          "metadata": {},
          "execution_count": 60
        }
      ]
    },
    {
      "cell_type": "markdown",
      "source": [
        "**We have an unbalanced dataset. During modelling we will have to deal with this. Also we will check balance after cleaning**"
      ],
      "metadata": {
        "id": "a0Oumtj4rlxT"
      }
    },
    {
      "cell_type": "code",
      "source": [
        "#Lower Casing the Data\n",
        "twitter_df['clean_text'] = twitter_df.text.str.lower()"
      ],
      "metadata": {
        "id": "24ZBO586yhbo"
      },
      "execution_count": null,
      "outputs": []
    },
    {
      "cell_type": "code",
      "source": [
        "# Removing @ mentions\n",
        "# Define a function to remove '@' mentions\n",
        "def remove_mentions(text):\n",
        "    return re.sub(r'@\\w+', '', text)\n",
        "\n",
        "# Apply the function to the 'clean_text' column\n",
        "twitter_df['clean_text'] = twitter_df['clean_text'].apply(lambda x: remove_mentions(x))"
      ],
      "metadata": {
        "id": "a6gHc9G26EjR"
      },
      "execution_count": null,
      "outputs": []
    },
    {
      "cell_type": "code",
      "source": [
        "twitter_df"
      ],
      "metadata": {
        "colab": {
          "base_uri": "https://localhost:8080/",
          "height": 468
        },
        "id": "vI463KQ8tjNw",
        "outputId": "d61637fd-c552-46d7-c1f2-a38f9c137b87"
      },
      "execution_count": null,
      "outputs": [
        {
          "output_type": "execute_result",
          "data": {
            "text/plain": [
              "                                                    text          label  \\\n",
              "0      Here at home. Neighbors pick on my family and ...  cyberbullying   \n",
              "1      Being bullied at school: High-achieving boys u...  cyberbullying   \n",
              "2      There was a girl in my class in 6th grade who ...  cyberbullying   \n",
              "3      He’s probably a white gay kid from some suburb...  cyberbullying   \n",
              "4      You are pushed ti resorting. Treating thr bull...  cyberbullying   \n",
              "...                                                  ...            ...   \n",
              "47742               @kufr666 @blockbot no, that's @oolon  cyberbullying   \n",
              "47743  @AriMelber why are you giving these idiots air...  cyberbullying   \n",
              "47744  I am right now watching Enforcers defend Chums...  cyberbullying   \n",
              "47745  ✨✨✨ misandry is not a word iOS can autocomplet...  cyberbullying   \n",
              "47746  @Bazmati2020 @sofs_mom I think poor @Annjj is ...  cyberbullying   \n",
              "\n",
              "                                              clean_text  \n",
              "0      here at home. neighbors pick on my family and ...  \n",
              "1      being bullied at school: high-achieving boys u...  \n",
              "2      there was a girl in my class in 6th grade who ...  \n",
              "3      he’s probably a white gay kid from some suburb...  \n",
              "4      you are pushed ti resorting. treating thr bull...  \n",
              "...                                                  ...  \n",
              "47742                                        no, that's   \n",
              "47743   why are you giving these idiots airtime. #gro...  \n",
              "47744  i am right now watching enforcers defend chums...  \n",
              "47745  ✨✨✨ misandry is not a word ios can autocomplet...  \n",
              "47746    i think poor  is being harassed and bullied ...  \n",
              "\n",
              "[47589 rows x 3 columns]"
            ],
            "text/html": [
              "\n",
              "\n",
              "  <div id=\"df-9deca373-77bb-42af-a027-2d4726895046\">\n",
              "    <div class=\"colab-df-container\">\n",
              "      <div>\n",
              "<style scoped>\n",
              "    .dataframe tbody tr th:only-of-type {\n",
              "        vertical-align: middle;\n",
              "    }\n",
              "\n",
              "    .dataframe tbody tr th {\n",
              "        vertical-align: top;\n",
              "    }\n",
              "\n",
              "    .dataframe thead th {\n",
              "        text-align: right;\n",
              "    }\n",
              "</style>\n",
              "<table border=\"1\" class=\"dataframe\">\n",
              "  <thead>\n",
              "    <tr style=\"text-align: right;\">\n",
              "      <th></th>\n",
              "      <th>text</th>\n",
              "      <th>label</th>\n",
              "      <th>clean_text</th>\n",
              "    </tr>\n",
              "  </thead>\n",
              "  <tbody>\n",
              "    <tr>\n",
              "      <th>0</th>\n",
              "      <td>Here at home. Neighbors pick on my family and ...</td>\n",
              "      <td>cyberbullying</td>\n",
              "      <td>here at home. neighbors pick on my family and ...</td>\n",
              "    </tr>\n",
              "    <tr>\n",
              "      <th>1</th>\n",
              "      <td>Being bullied at school: High-achieving boys u...</td>\n",
              "      <td>cyberbullying</td>\n",
              "      <td>being bullied at school: high-achieving boys u...</td>\n",
              "    </tr>\n",
              "    <tr>\n",
              "      <th>2</th>\n",
              "      <td>There was a girl in my class in 6th grade who ...</td>\n",
              "      <td>cyberbullying</td>\n",
              "      <td>there was a girl in my class in 6th grade who ...</td>\n",
              "    </tr>\n",
              "    <tr>\n",
              "      <th>3</th>\n",
              "      <td>He’s probably a white gay kid from some suburb...</td>\n",
              "      <td>cyberbullying</td>\n",
              "      <td>he’s probably a white gay kid from some suburb...</td>\n",
              "    </tr>\n",
              "    <tr>\n",
              "      <th>4</th>\n",
              "      <td>You are pushed ti resorting. Treating thr bull...</td>\n",
              "      <td>cyberbullying</td>\n",
              "      <td>you are pushed ti resorting. treating thr bull...</td>\n",
              "    </tr>\n",
              "    <tr>\n",
              "      <th>...</th>\n",
              "      <td>...</td>\n",
              "      <td>...</td>\n",
              "      <td>...</td>\n",
              "    </tr>\n",
              "    <tr>\n",
              "      <th>47742</th>\n",
              "      <td>@kufr666 @blockbot no, that's @oolon</td>\n",
              "      <td>cyberbullying</td>\n",
              "      <td>no, that's</td>\n",
              "    </tr>\n",
              "    <tr>\n",
              "      <th>47743</th>\n",
              "      <td>@AriMelber why are you giving these idiots air...</td>\n",
              "      <td>cyberbullying</td>\n",
              "      <td>why are you giving these idiots airtime. #gro...</td>\n",
              "    </tr>\n",
              "    <tr>\n",
              "      <th>47744</th>\n",
              "      <td>I am right now watching Enforcers defend Chums...</td>\n",
              "      <td>cyberbullying</td>\n",
              "      <td>i am right now watching enforcers defend chums...</td>\n",
              "    </tr>\n",
              "    <tr>\n",
              "      <th>47745</th>\n",
              "      <td>✨✨✨ misandry is not a word iOS can autocomplet...</td>\n",
              "      <td>cyberbullying</td>\n",
              "      <td>✨✨✨ misandry is not a word ios can autocomplet...</td>\n",
              "    </tr>\n",
              "    <tr>\n",
              "      <th>47746</th>\n",
              "      <td>@Bazmati2020 @sofs_mom I think poor @Annjj is ...</td>\n",
              "      <td>cyberbullying</td>\n",
              "      <td>i think poor  is being harassed and bullied ...</td>\n",
              "    </tr>\n",
              "  </tbody>\n",
              "</table>\n",
              "<p>47589 rows × 3 columns</p>\n",
              "</div>\n",
              "      <button class=\"colab-df-convert\" onclick=\"convertToInteractive('df-9deca373-77bb-42af-a027-2d4726895046')\"\n",
              "              title=\"Convert this dataframe to an interactive table.\"\n",
              "              style=\"display:none;\">\n",
              "\n",
              "  <svg xmlns=\"http://www.w3.org/2000/svg\" height=\"24px\"viewBox=\"0 0 24 24\"\n",
              "       width=\"24px\">\n",
              "    <path d=\"M0 0h24v24H0V0z\" fill=\"none\"/>\n",
              "    <path d=\"M18.56 5.44l.94 2.06.94-2.06 2.06-.94-2.06-.94-.94-2.06-.94 2.06-2.06.94zm-11 1L8.5 8.5l.94-2.06 2.06-.94-2.06-.94L8.5 2.5l-.94 2.06-2.06.94zm10 10l.94 2.06.94-2.06 2.06-.94-2.06-.94-.94-2.06-.94 2.06-2.06.94z\"/><path d=\"M17.41 7.96l-1.37-1.37c-.4-.4-.92-.59-1.43-.59-.52 0-1.04.2-1.43.59L10.3 9.45l-7.72 7.72c-.78.78-.78 2.05 0 2.83L4 21.41c.39.39.9.59 1.41.59.51 0 1.02-.2 1.41-.59l7.78-7.78 2.81-2.81c.8-.78.8-2.07 0-2.86zM5.41 20L4 18.59l7.72-7.72 1.47 1.35L5.41 20z\"/>\n",
              "  </svg>\n",
              "      </button>\n",
              "\n",
              "\n",
              "\n",
              "    <div id=\"df-e05d773e-6c9b-4bd1-9dae-3007391d1675\">\n",
              "      <button class=\"colab-df-quickchart\" onclick=\"quickchart('df-e05d773e-6c9b-4bd1-9dae-3007391d1675')\"\n",
              "              title=\"Suggest charts.\"\n",
              "              style=\"display:none;\">\n",
              "\n",
              "<svg xmlns=\"http://www.w3.org/2000/svg\" height=\"24px\"viewBox=\"0 0 24 24\"\n",
              "     width=\"24px\">\n",
              "    <g>\n",
              "        <path d=\"M19 3H5c-1.1 0-2 .9-2 2v14c0 1.1.9 2 2 2h14c1.1 0 2-.9 2-2V5c0-1.1-.9-2-2-2zM9 17H7v-7h2v7zm4 0h-2V7h2v10zm4 0h-2v-4h2v4z\"/>\n",
              "    </g>\n",
              "</svg>\n",
              "      </button>\n",
              "    </div>\n",
              "\n",
              "<style>\n",
              "  .colab-df-quickchart {\n",
              "    background-color: #E8F0FE;\n",
              "    border: none;\n",
              "    border-radius: 50%;\n",
              "    cursor: pointer;\n",
              "    display: none;\n",
              "    fill: #1967D2;\n",
              "    height: 32px;\n",
              "    padding: 0 0 0 0;\n",
              "    width: 32px;\n",
              "  }\n",
              "\n",
              "  .colab-df-quickchart:hover {\n",
              "    background-color: #E2EBFA;\n",
              "    box-shadow: 0px 1px 2px rgba(60, 64, 67, 0.3), 0px 1px 3px 1px rgba(60, 64, 67, 0.15);\n",
              "    fill: #174EA6;\n",
              "  }\n",
              "\n",
              "  [theme=dark] .colab-df-quickchart {\n",
              "    background-color: #3B4455;\n",
              "    fill: #D2E3FC;\n",
              "  }\n",
              "\n",
              "  [theme=dark] .colab-df-quickchart:hover {\n",
              "    background-color: #434B5C;\n",
              "    box-shadow: 0px 1px 3px 1px rgba(0, 0, 0, 0.15);\n",
              "    filter: drop-shadow(0px 1px 2px rgba(0, 0, 0, 0.3));\n",
              "    fill: #FFFFFF;\n",
              "  }\n",
              "</style>\n",
              "\n",
              "    <script>\n",
              "      async function quickchart(key) {\n",
              "        const containerElement = document.querySelector('#' + key);\n",
              "        const charts = await google.colab.kernel.invokeFunction(\n",
              "            'suggestCharts', [key], {});\n",
              "      }\n",
              "    </script>\n",
              "\n",
              "      <script>\n",
              "\n",
              "function displayQuickchartButton(domScope) {\n",
              "  let quickchartButtonEl =\n",
              "    domScope.querySelector('#df-e05d773e-6c9b-4bd1-9dae-3007391d1675 button.colab-df-quickchart');\n",
              "  quickchartButtonEl.style.display =\n",
              "    google.colab.kernel.accessAllowed ? 'block' : 'none';\n",
              "}\n",
              "\n",
              "        displayQuickchartButton(document);\n",
              "      </script>\n",
              "      <style>\n",
              "    .colab-df-container {\n",
              "      display:flex;\n",
              "      flex-wrap:wrap;\n",
              "      gap: 12px;\n",
              "    }\n",
              "\n",
              "    .colab-df-convert {\n",
              "      background-color: #E8F0FE;\n",
              "      border: none;\n",
              "      border-radius: 50%;\n",
              "      cursor: pointer;\n",
              "      display: none;\n",
              "      fill: #1967D2;\n",
              "      height: 32px;\n",
              "      padding: 0 0 0 0;\n",
              "      width: 32px;\n",
              "    }\n",
              "\n",
              "    .colab-df-convert:hover {\n",
              "      background-color: #E2EBFA;\n",
              "      box-shadow: 0px 1px 2px rgba(60, 64, 67, 0.3), 0px 1px 3px 1px rgba(60, 64, 67, 0.15);\n",
              "      fill: #174EA6;\n",
              "    }\n",
              "\n",
              "    [theme=dark] .colab-df-convert {\n",
              "      background-color: #3B4455;\n",
              "      fill: #D2E3FC;\n",
              "    }\n",
              "\n",
              "    [theme=dark] .colab-df-convert:hover {\n",
              "      background-color: #434B5C;\n",
              "      box-shadow: 0px 1px 3px 1px rgba(0, 0, 0, 0.15);\n",
              "      filter: drop-shadow(0px 1px 2px rgba(0, 0, 0, 0.3));\n",
              "      fill: #FFFFFF;\n",
              "    }\n",
              "  </style>\n",
              "\n",
              "      <script>\n",
              "        const buttonEl =\n",
              "          document.querySelector('#df-9deca373-77bb-42af-a027-2d4726895046 button.colab-df-convert');\n",
              "        buttonEl.style.display =\n",
              "          google.colab.kernel.accessAllowed ? 'block' : 'none';\n",
              "\n",
              "        async function convertToInteractive(key) {\n",
              "          const element = document.querySelector('#df-9deca373-77bb-42af-a027-2d4726895046');\n",
              "          const dataTable =\n",
              "            await google.colab.kernel.invokeFunction('convertToInteractive',\n",
              "                                                     [key], {});\n",
              "          if (!dataTable) return;\n",
              "\n",
              "          const docLinkHtml = 'Like what you see? Visit the ' +\n",
              "            '<a target=\"_blank\" href=https://colab.research.google.com/notebooks/data_table.ipynb>data table notebook</a>'\n",
              "            + ' to learn more about interactive tables.';\n",
              "          element.innerHTML = '';\n",
              "          dataTable['output_type'] = 'display_data';\n",
              "          await google.colab.output.renderOutput(dataTable, element);\n",
              "          const docLink = document.createElement('div');\n",
              "          docLink.innerHTML = docLinkHtml;\n",
              "          element.appendChild(docLink);\n",
              "        }\n",
              "      </script>\n",
              "    </div>\n",
              "  </div>\n"
            ]
          },
          "metadata": {},
          "execution_count": 63
        }
      ]
    },
    {
      "cell_type": "code",
      "source": [
        "# remove hyperlinks\n",
        "def remove_links(text):\n",
        "    # Regular expression pattern to match both HTTP and HTTPS links\n",
        "    link_pattern = r'http://\\S+|https://\\S+'\n",
        "\n",
        "    # Replace the links with an empty string\n",
        "    cleaned_text = re.sub(link_pattern, '', text)\n",
        "\n",
        "    return cleaned_text\n",
        "\n",
        "# Apply the function to the 'clean_text' column\n",
        "twitter_df['clean_text'] = twitter_df['clean_text'].apply(lambda x: remove_links(x))"
      ],
      "metadata": {
        "id": "6sXcvhfcs-BE"
      },
      "execution_count": null,
      "outputs": []
    },
    {
      "cell_type": "code",
      "source": [
        "# remove non printable ASCII charcters\n",
        "\n",
        "def clean_text(text):\n",
        "    # Remove non-printable characters and weird characters\n",
        "    cleaned_text = ''.join(filter(lambda x: x in string.printable, text))\n",
        "\n",
        "    # Remove any other specific weird characters using regex\n",
        "    cleaned_text = re.sub(r'[^\\x00-\\x7F]+', '', cleaned_text)\n",
        "\n",
        "    # Remove extra whitespaces\n",
        "    cleaned_text = \" \".join(cleaned_text.split())\n",
        "\n",
        "    return cleaned_text\n",
        "\n",
        "# Apply the function to the 'clean_text' column\n",
        "twitter_df['clean_text'] = twitter_df['clean_text'].apply(lambda x: clean_text(x))\n"
      ],
      "metadata": {
        "id": "nmMGlHbPX1DX"
      },
      "execution_count": null,
      "outputs": []
    },
    {
      "cell_type": "code",
      "source": [
        "# Define a function to calculate the number of words in the text\n",
        "def count_words(text):\n",
        "    return len(text.split())\n",
        "\n",
        "# Create a new column 'clean_text' to store the word count\n",
        "twitter_df['word_count'] = twitter_df['clean_text'].apply(lambda x: count_words(x))\n",
        "\n",
        "# Sort the DataFrame in descending order by 'word_count'\n",
        "twitter_df = twitter_df.sort_values(by='word_count', ascending=False)"
      ],
      "metadata": {
        "id": "Q-JBaMzCfyTX"
      },
      "execution_count": null,
      "outputs": []
    },
    {
      "cell_type": "code",
      "source": [
        "# remove # tags\n",
        "def remove_hashtags(text):\n",
        "    # Regular expression pattern to match hashtags (#word)\n",
        "    hashtag_pattern = r'#\\w+'\n",
        "\n",
        "    # Replace the hashtags with an empty string\n",
        "    cleaned_text = re.sub(hashtag_pattern, '', text)\n",
        "\n",
        "    return cleaned_text\n",
        "\n",
        "# Apply the function to the 'clean_text' column\n",
        "twitter_df['clean_text'] = twitter_df['clean_text'].apply(lambda x: remove_hashtags(x))"
      ],
      "metadata": {
        "id": "aD-qBNnyvKyv"
      },
      "execution_count": null,
      "outputs": []
    },
    {
      "cell_type": "code",
      "source": [
        "# Removing data where the text length is below 10 chars\n",
        "# Define a function to calculate the word count for each row\n",
        "def count_words(text):\n",
        "    return len(text.split())\n",
        "\n",
        "# Apply the function to calculate word count and filter rows where count is below 10\n",
        "twitter_df = twitter_df[twitter_df['clean_text'].apply(lambda x: count_words(x)) >= 10]"
      ],
      "metadata": {
        "id": "gETQTVelgWwn"
      },
      "execution_count": null,
      "outputs": []
    },
    {
      "cell_type": "code",
      "source": [
        "# Removing Punctuations\n",
        "# Define a function to remove punctuation\n",
        "def remove_punctuation(text):\n",
        "    return re.sub(f\"[{re.escape(string.punctuation)}]\", \"\", text)\n",
        "\n",
        "# Apply the function to the 'clean_text' column\n",
        "twitter_df['clean_text'] = twitter_df['clean_text'].apply(lambda x: remove_punctuation(x))\n"
      ],
      "metadata": {
        "id": "b51-bhIezXM_"
      },
      "execution_count": null,
      "outputs": []
    },
    {
      "cell_type": "code",
      "source": [
        "# Removing Numbers\n",
        "# Define a function to remove digits from a text\n",
        "def remove_digits(text):\n",
        "    return ''.join([i for i in text if not i.isdigit()])\n",
        "\n",
        "# Apply the function to the 'clean_text' column\n",
        "twitter_df['clean_text'] = twitter_df['clean_text'].apply(lambda x: remove_digits(x))\n"
      ],
      "metadata": {
        "id": "U_a1h2Goz_sm"
      },
      "execution_count": null,
      "outputs": []
    },
    {
      "cell_type": "code",
      "source": [
        "# Removing Extra Space\n",
        "# Define a function to remove extra spaces and join the words with a single space\n",
        "def remove_space(text):\n",
        "    return \" \".join(text.split())\n",
        "\n",
        "# Apply the function to the 'clean_text' column\n",
        "twitter_df['clean_text'] = twitter_df['clean_text'].apply(lambda x: remove_space(x))\n"
      ],
      "metadata": {
        "id": "ZQ6Nrj2m1WDs"
      },
      "execution_count": null,
      "outputs": []
    },
    {
      "cell_type": "code",
      "source": [
        "# Replacing the Repetitions of Punctuations\n",
        "# Define a function to apply the regex-based substitution\n",
        "def replace_repetition(text):\n",
        "    return re.sub(r'(!|.)1+', '', text)\n",
        "\n",
        "# Apply the function to the 'clean_text' column\n",
        "twitter_df['clean_text'] = twitter_df['clean_text'].apply(lambda x: replace_repetition(x))\n"
      ],
      "metadata": {
        "id": "l5rgY-2k1_09"
      },
      "execution_count": null,
      "outputs": []
    },
    {
      "cell_type": "code",
      "source": [
        "# Removing Emojis\n",
        "def remove_emoji(string):\n",
        "    emoji_pattern = re.compile(\"[\"\n",
        "                               u\"\\U0001F600-\\U0001F64F\"  # emoticons\n",
        "                               u\"\\U0001F300-\\U0001F5FF\"  # symbols & pictographs\n",
        "                               u\"\\U0001F680-\\U0001F6FF\"  # transport & map symbols\n",
        "                               u\"\\U0001F1E0-\\U0001F1FF\"\n",
        "                               u\"\\U00002702-\\U000027B0\"\n",
        "                               u\"\\U000024C2-\\U0001F251\"\n",
        "                               \"]+\", flags=re.UNICODE)\n",
        "    return emoji_pattern.sub(r'', string)\n",
        "\n",
        "# Apply the remove_emoji function to the 'clean_text' column\n",
        "twitter_df['clean_text'] = twitter_df['clean_text'].apply(lambda x: remove_emoji(x))\n"
      ],
      "metadata": {
        "id": "wlISfYTq2cEy"
      },
      "execution_count": null,
      "outputs": []
    },
    {
      "cell_type": "code",
      "source": [
        "# Remove emoticons\n",
        "# Dictionary of emoticons and their descriptions\n",
        "EMOTICONS = {\n",
        "    u\":‑)\": u\"Happy face or smiley\",\n",
        "    u\":)\": u\"Happy face or smiley\",\n",
        "    u\":-]\": u\"Happy face or smiley\",\n",
        "    u\":]\": u\"Happy face or smiley\",\n",
        "    u\":-3\": u\"Happy face smiley\",\n",
        "    u\":3\": u\"Happy face smiley\",\n",
        "    u\":->\": u\"Happy face smiley\",\n",
        "    u\":>\": u\"Happy face smiley\",\n",
        "    u\"8-)\": u\"Happy face smiley\",\n",
        "    u\":o)\": u\"Happy face smiley\",\n",
        "    u\":-}\": u\"Happy face smiley\",\n",
        "    u\":}\": u\"Happy face smiley\",\n",
        "    u\":-)\": u\"Happy face smiley\",\n",
        "    u\":c)\": u\"Happy face smiley\",\n",
        "    u\":^)\": u\"Happy face smiley\",\n",
        "    u\"=]\": u\"Happy face smiley\",\n",
        "}\n",
        "\n",
        "# Generate a regex pattern for the emoticons\n",
        "emoticon_pattern = re.compile(u'(' + u'|'.join(re.escape(k) for k in EMOTICONS) + u')')\n",
        "\n",
        "# Define a function to remove emoticons\n",
        "def remove_emoticons(text):\n",
        "    return emoticon_pattern.sub('', text)\n",
        "\n",
        "# Apply the function to the 'clean_text' column\n",
        "twitter_df['clean_text'] = twitter_df['clean_text'].apply(lambda x: remove_emoticons(x))\n"
      ],
      "metadata": {
        "id": "cZOU8Sq93C48"
      },
      "execution_count": null,
      "outputs": []
    },
    {
      "cell_type": "code",
      "source": [
        "# Removing Contractions\n",
        "# Define a function to expand contractions\n",
        "def expand_contractions(text):\n",
        "    return contractions.fix(text)\n",
        "\n",
        "# Apply the function to the 'clean_text' column\n",
        "twitter_df['clean_text'] = twitter_df['clean_text'].apply(lambda x: expand_contractions(x))\n"
      ],
      "metadata": {
        "id": "2ykiqBqa3o_t"
      },
      "execution_count": null,
      "outputs": []
    },
    {
      "cell_type": "code",
      "source": [
        "# Spellcheck\n",
        "from textblob import TextBlob\n",
        "\n",
        "# Function to perform spell check on a text\n",
        "def spell_check(text):\n",
        "    blob = TextBlob(text)\n",
        "    corrected_text = blob.correct()\n",
        "    return str(corrected_text)\n",
        "\n",
        "# Apply the function to the 'clean_text' column\n",
        "twitter_df['clean_text'] = twitter_df['clean_text'].apply(lambda x: spell_check(x))"
      ],
      "metadata": {
        "colab": {
          "base_uri": "https://localhost:8080/"
        },
        "id": "Rck9-WO5Y09r",
        "outputId": "aeaa7f5e-3d67-4adf-c93f-fcd47253de46"
      },
      "execution_count": null,
      "outputs": [
        {
          "output_type": "stream",
          "name": "stderr",
          "text": [
            "<ipython-input-93-0d98d840a7d3>:11: SettingWithCopyWarning: \n",
            "A value is trying to be set on a copy of a slice from a DataFrame.\n",
            "Try using .loc[row_indexer,col_indexer] = value instead\n",
            "\n",
            "See the caveats in the documentation: https://pandas.pydata.org/pandas-docs/stable/user_guide/indexing.html#returning-a-view-versus-a-copy\n",
            "  twitter_df['clean_text'] = twitter_df['clean_text'].apply(lambda x: spell_check(x))\n"
          ]
        }
      ]
    },
    {
      "cell_type": "code",
      "source": [
        "twitter_df"
      ],
      "metadata": {
        "colab": {
          "base_uri": "https://localhost:8080/",
          "height": 468
        },
        "id": "InGCSYX6tTw3",
        "outputId": "732e44d2-eb68-4fbc-b622-79b53ebd2c8d"
      },
      "execution_count": null,
      "outputs": [
        {
          "output_type": "execute_result",
          "data": {
            "text/plain": [
              "                                                    text          label  \\\n",
              "45213  is feminazi an actual word with a denot…\\r\\n@N...  cyberbullying   \n",
              "40524  @NICKIMINAJ: #WutKinda\\r\\nAt this rate the MKR...  cyberbullying   \n",
              "46760  I don't retreat.\\r\\nyessssssss http://t.co/Td9...  cyberbullying   \n",
              "12296  You so black and white trying to live like a n...  cyberbullying   \n",
              "13426  @hermdiggz: “@tayyoung_: FUCK OBAMA, dumb ass ...  cyberbullying   \n",
              "...                                                  ...            ...   \n",
              "3467      stella is the CEO of being a high school bully  cyberbullying   \n",
              "47506  @coconono maybe some people like stepping on l...  cyberbullying   \n",
              "2404   amber is a high school bully high school fucki...  cyberbullying   \n",
              "41045  Old dude in this cafe: \"my grandmother had blu...  cyberbullying   \n",
              "86     ...but their school bully is leaving to join t...  cyberbullying   \n",
              "\n",
              "                                              clean_text  word_count  \n",
              "45213  is feminazi an actual word with a denote my jo...         730  \n",
              "40524  at this rate the mr final will be in december ...         649  \n",
              "46760  i do not retreat yessssssss up why do they not...         467  \n",
              "12296  you so black and white trying to live like a n...         319  \n",
              "13426  fuck drama dumb ass nigger this bitch this whe...         277  \n",
              "...                                                  ...         ...  \n",
              "3467        still is the co of being a high school bully          10  \n",
              "47506  maybe some people like stepping on legs i do n...          10  \n",
              "2404   amber is a high school bully high school fucki...          10  \n",
              "41045  old due in this cafe my grandmother had blue hair          10  \n",
              "86     but their school bully is leaving to join the ...          10  \n",
              "\n",
              "[39043 rows x 4 columns]"
            ],
            "text/html": [
              "\n",
              "\n",
              "  <div id=\"df-0984a845-0773-4620-b40c-eaf519532eaa\">\n",
              "    <div class=\"colab-df-container\">\n",
              "      <div>\n",
              "<style scoped>\n",
              "    .dataframe tbody tr th:only-of-type {\n",
              "        vertical-align: middle;\n",
              "    }\n",
              "\n",
              "    .dataframe tbody tr th {\n",
              "        vertical-align: top;\n",
              "    }\n",
              "\n",
              "    .dataframe thead th {\n",
              "        text-align: right;\n",
              "    }\n",
              "</style>\n",
              "<table border=\"1\" class=\"dataframe\">\n",
              "  <thead>\n",
              "    <tr style=\"text-align: right;\">\n",
              "      <th></th>\n",
              "      <th>text</th>\n",
              "      <th>label</th>\n",
              "      <th>clean_text</th>\n",
              "      <th>word_count</th>\n",
              "    </tr>\n",
              "  </thead>\n",
              "  <tbody>\n",
              "    <tr>\n",
              "      <th>45213</th>\n",
              "      <td>is feminazi an actual word with a denot…\\r\\n@N...</td>\n",
              "      <td>cyberbullying</td>\n",
              "      <td>is feminazi an actual word with a denote my jo...</td>\n",
              "      <td>730</td>\n",
              "    </tr>\n",
              "    <tr>\n",
              "      <th>40524</th>\n",
              "      <td>@NICKIMINAJ: #WutKinda\\r\\nAt this rate the MKR...</td>\n",
              "      <td>cyberbullying</td>\n",
              "      <td>at this rate the mr final will be in december ...</td>\n",
              "      <td>649</td>\n",
              "    </tr>\n",
              "    <tr>\n",
              "      <th>46760</th>\n",
              "      <td>I don't retreat.\\r\\nyessssssss http://t.co/Td9...</td>\n",
              "      <td>cyberbullying</td>\n",
              "      <td>i do not retreat yessssssss up why do they not...</td>\n",
              "      <td>467</td>\n",
              "    </tr>\n",
              "    <tr>\n",
              "      <th>12296</th>\n",
              "      <td>You so black and white trying to live like a n...</td>\n",
              "      <td>cyberbullying</td>\n",
              "      <td>you so black and white trying to live like a n...</td>\n",
              "      <td>319</td>\n",
              "    </tr>\n",
              "    <tr>\n",
              "      <th>13426</th>\n",
              "      <td>@hermdiggz: “@tayyoung_: FUCK OBAMA, dumb ass ...</td>\n",
              "      <td>cyberbullying</td>\n",
              "      <td>fuck drama dumb ass nigger this bitch this whe...</td>\n",
              "      <td>277</td>\n",
              "    </tr>\n",
              "    <tr>\n",
              "      <th>...</th>\n",
              "      <td>...</td>\n",
              "      <td>...</td>\n",
              "      <td>...</td>\n",
              "      <td>...</td>\n",
              "    </tr>\n",
              "    <tr>\n",
              "      <th>3467</th>\n",
              "      <td>stella is the CEO of being a high school bully</td>\n",
              "      <td>cyberbullying</td>\n",
              "      <td>still is the co of being a high school bully</td>\n",
              "      <td>10</td>\n",
              "    </tr>\n",
              "    <tr>\n",
              "      <th>47506</th>\n",
              "      <td>@coconono maybe some people like stepping on l...</td>\n",
              "      <td>cyberbullying</td>\n",
              "      <td>maybe some people like stepping on legs i do n...</td>\n",
              "      <td>10</td>\n",
              "    </tr>\n",
              "    <tr>\n",
              "      <th>2404</th>\n",
              "      <td>amber is a high school bully high school fucki...</td>\n",
              "      <td>cyberbullying</td>\n",
              "      <td>amber is a high school bully high school fucki...</td>\n",
              "      <td>10</td>\n",
              "    </tr>\n",
              "    <tr>\n",
              "      <th>41045</th>\n",
              "      <td>Old dude in this cafe: \"my grandmother had blu...</td>\n",
              "      <td>cyberbullying</td>\n",
              "      <td>old due in this cafe my grandmother had blue hair</td>\n",
              "      <td>10</td>\n",
              "    </tr>\n",
              "    <tr>\n",
              "      <th>86</th>\n",
              "      <td>...but their school bully is leaving to join t...</td>\n",
              "      <td>cyberbullying</td>\n",
              "      <td>but their school bully is leaving to join the ...</td>\n",
              "      <td>10</td>\n",
              "    </tr>\n",
              "  </tbody>\n",
              "</table>\n",
              "<p>39043 rows × 4 columns</p>\n",
              "</div>\n",
              "      <button class=\"colab-df-convert\" onclick=\"convertToInteractive('df-0984a845-0773-4620-b40c-eaf519532eaa')\"\n",
              "              title=\"Convert this dataframe to an interactive table.\"\n",
              "              style=\"display:none;\">\n",
              "\n",
              "  <svg xmlns=\"http://www.w3.org/2000/svg\" height=\"24px\"viewBox=\"0 0 24 24\"\n",
              "       width=\"24px\">\n",
              "    <path d=\"M0 0h24v24H0V0z\" fill=\"none\"/>\n",
              "    <path d=\"M18.56 5.44l.94 2.06.94-2.06 2.06-.94-2.06-.94-.94-2.06-.94 2.06-2.06.94zm-11 1L8.5 8.5l.94-2.06 2.06-.94-2.06-.94L8.5 2.5l-.94 2.06-2.06.94zm10 10l.94 2.06.94-2.06 2.06-.94-2.06-.94-.94-2.06-.94 2.06-2.06.94z\"/><path d=\"M17.41 7.96l-1.37-1.37c-.4-.4-.92-.59-1.43-.59-.52 0-1.04.2-1.43.59L10.3 9.45l-7.72 7.72c-.78.78-.78 2.05 0 2.83L4 21.41c.39.39.9.59 1.41.59.51 0 1.02-.2 1.41-.59l7.78-7.78 2.81-2.81c.8-.78.8-2.07 0-2.86zM5.41 20L4 18.59l7.72-7.72 1.47 1.35L5.41 20z\"/>\n",
              "  </svg>\n",
              "      </button>\n",
              "\n",
              "\n",
              "\n",
              "    <div id=\"df-034764cd-7497-498f-86db-4e8f2c59ca21\">\n",
              "      <button class=\"colab-df-quickchart\" onclick=\"quickchart('df-034764cd-7497-498f-86db-4e8f2c59ca21')\"\n",
              "              title=\"Suggest charts.\"\n",
              "              style=\"display:none;\">\n",
              "\n",
              "<svg xmlns=\"http://www.w3.org/2000/svg\" height=\"24px\"viewBox=\"0 0 24 24\"\n",
              "     width=\"24px\">\n",
              "    <g>\n",
              "        <path d=\"M19 3H5c-1.1 0-2 .9-2 2v14c0 1.1.9 2 2 2h14c1.1 0 2-.9 2-2V5c0-1.1-.9-2-2-2zM9 17H7v-7h2v7zm4 0h-2V7h2v10zm4 0h-2v-4h2v4z\"/>\n",
              "    </g>\n",
              "</svg>\n",
              "      </button>\n",
              "    </div>\n",
              "\n",
              "<style>\n",
              "  .colab-df-quickchart {\n",
              "    background-color: #E8F0FE;\n",
              "    border: none;\n",
              "    border-radius: 50%;\n",
              "    cursor: pointer;\n",
              "    display: none;\n",
              "    fill: #1967D2;\n",
              "    height: 32px;\n",
              "    padding: 0 0 0 0;\n",
              "    width: 32px;\n",
              "  }\n",
              "\n",
              "  .colab-df-quickchart:hover {\n",
              "    background-color: #E2EBFA;\n",
              "    box-shadow: 0px 1px 2px rgba(60, 64, 67, 0.3), 0px 1px 3px 1px rgba(60, 64, 67, 0.15);\n",
              "    fill: #174EA6;\n",
              "  }\n",
              "\n",
              "  [theme=dark] .colab-df-quickchart {\n",
              "    background-color: #3B4455;\n",
              "    fill: #D2E3FC;\n",
              "  }\n",
              "\n",
              "  [theme=dark] .colab-df-quickchart:hover {\n",
              "    background-color: #434B5C;\n",
              "    box-shadow: 0px 1px 3px 1px rgba(0, 0, 0, 0.15);\n",
              "    filter: drop-shadow(0px 1px 2px rgba(0, 0, 0, 0.3));\n",
              "    fill: #FFFFFF;\n",
              "  }\n",
              "</style>\n",
              "\n",
              "    <script>\n",
              "      async function quickchart(key) {\n",
              "        const containerElement = document.querySelector('#' + key);\n",
              "        const charts = await google.colab.kernel.invokeFunction(\n",
              "            'suggestCharts', [key], {});\n",
              "      }\n",
              "    </script>\n",
              "\n",
              "      <script>\n",
              "\n",
              "function displayQuickchartButton(domScope) {\n",
              "  let quickchartButtonEl =\n",
              "    domScope.querySelector('#df-034764cd-7497-498f-86db-4e8f2c59ca21 button.colab-df-quickchart');\n",
              "  quickchartButtonEl.style.display =\n",
              "    google.colab.kernel.accessAllowed ? 'block' : 'none';\n",
              "}\n",
              "\n",
              "        displayQuickchartButton(document);\n",
              "      </script>\n",
              "      <style>\n",
              "    .colab-df-container {\n",
              "      display:flex;\n",
              "      flex-wrap:wrap;\n",
              "      gap: 12px;\n",
              "    }\n",
              "\n",
              "    .colab-df-convert {\n",
              "      background-color: #E8F0FE;\n",
              "      border: none;\n",
              "      border-radius: 50%;\n",
              "      cursor: pointer;\n",
              "      display: none;\n",
              "      fill: #1967D2;\n",
              "      height: 32px;\n",
              "      padding: 0 0 0 0;\n",
              "      width: 32px;\n",
              "    }\n",
              "\n",
              "    .colab-df-convert:hover {\n",
              "      background-color: #E2EBFA;\n",
              "      box-shadow: 0px 1px 2px rgba(60, 64, 67, 0.3), 0px 1px 3px 1px rgba(60, 64, 67, 0.15);\n",
              "      fill: #174EA6;\n",
              "    }\n",
              "\n",
              "    [theme=dark] .colab-df-convert {\n",
              "      background-color: #3B4455;\n",
              "      fill: #D2E3FC;\n",
              "    }\n",
              "\n",
              "    [theme=dark] .colab-df-convert:hover {\n",
              "      background-color: #434B5C;\n",
              "      box-shadow: 0px 1px 3px 1px rgba(0, 0, 0, 0.15);\n",
              "      filter: drop-shadow(0px 1px 2px rgba(0, 0, 0, 0.3));\n",
              "      fill: #FFFFFF;\n",
              "    }\n",
              "  </style>\n",
              "\n",
              "      <script>\n",
              "        const buttonEl =\n",
              "          document.querySelector('#df-0984a845-0773-4620-b40c-eaf519532eaa button.colab-df-convert');\n",
              "        buttonEl.style.display =\n",
              "          google.colab.kernel.accessAllowed ? 'block' : 'none';\n",
              "\n",
              "        async function convertToInteractive(key) {\n",
              "          const element = document.querySelector('#df-0984a845-0773-4620-b40c-eaf519532eaa');\n",
              "          const dataTable =\n",
              "            await google.colab.kernel.invokeFunction('convertToInteractive',\n",
              "                                                     [key], {});\n",
              "          if (!dataTable) return;\n",
              "\n",
              "          const docLinkHtml = 'Like what you see? Visit the ' +\n",
              "            '<a target=\"_blank\" href=https://colab.research.google.com/notebooks/data_table.ipynb>data table notebook</a>'\n",
              "            + ' to learn more about interactive tables.';\n",
              "          element.innerHTML = '';\n",
              "          dataTable['output_type'] = 'display_data';\n",
              "          await google.colab.output.renderOutput(dataTable, element);\n",
              "          const docLink = document.createElement('div');\n",
              "          docLink.innerHTML = docLinkHtml;\n",
              "          element.appendChild(docLink);\n",
              "        }\n",
              "      </script>\n",
              "    </div>\n",
              "  </div>\n"
            ]
          },
          "metadata": {},
          "execution_count": 94
        }
      ]
    },
    {
      "cell_type": "code",
      "source": [
        "# Removing Stop Words\n",
        "def remove_stopwords(text):\n",
        "    stop_words = set(stopwords.words('english'))\n",
        "    words = text.split()\n",
        "    filtered_words = [word for word in words if word.lower() not in stop_words]\n",
        "    return ' '.join(filtered_words)\n",
        "\n",
        "# Apply the remove_stopwords function to the 'clean_text' column\n",
        "twitter_df['clean_text'] = twitter_df['clean_text'].apply(lambda x: remove_stopwords(x))"
      ],
      "metadata": {
        "id": "gg27sD3MKkYs",
        "colab": {
          "base_uri": "https://localhost:8080/"
        },
        "outputId": "a8f7a874-579a-494b-f064-ee0e140dfadf"
      },
      "execution_count": null,
      "outputs": [
        {
          "output_type": "stream",
          "name": "stderr",
          "text": [
            "<ipython-input-95-bceaa1bc8c67>:9: SettingWithCopyWarning: \n",
            "A value is trying to be set on a copy of a slice from a DataFrame.\n",
            "Try using .loc[row_indexer,col_indexer] = value instead\n",
            "\n",
            "See the caveats in the documentation: https://pandas.pydata.org/pandas-docs/stable/user_guide/indexing.html#returning-a-view-versus-a-copy\n",
            "  twitter_df['clean_text'] = twitter_df['clean_text'].apply(lambda x: remove_stopwords(x))\n"
          ]
        }
      ]
    },
    {
      "cell_type": "code",
      "source": [
        "# Apply Tokenisation\n",
        "nltk.download('punkt')\n",
        "from nltk.tokenize import  sent_tokenize,word_tokenize"
      ],
      "metadata": {
        "colab": {
          "base_uri": "https://localhost:8080/"
        },
        "id": "-9ehmXubSyqr",
        "outputId": "776758d7-9fbb-47c3-e7e9-fdb5bca917c9"
      },
      "execution_count": null,
      "outputs": [
        {
          "output_type": "stream",
          "name": "stderr",
          "text": [
            "[nltk_data] Downloading package punkt to /root/nltk_data...\n",
            "[nltk_data]   Unzipping tokenizers/punkt.zip.\n"
          ]
        }
      ]
    },
    {
      "cell_type": "code",
      "source": [
        "def text_to_tokens(text):\n",
        "  tokens = []\n",
        "  for sentence in sent_tokenize(text):\n",
        "    for word in word_tokenize(sentence):\n",
        "      tokens.append(word)\n",
        "  return tokens\n",
        "\n",
        "twitter_df['clean_text'] = twitter_df['clean_text'].apply(lambda x: text_to_tokens(x))"
      ],
      "metadata": {
        "id": "YLEIhZRBUuIm"
      },
      "execution_count": null,
      "outputs": []
    },
    {
      "cell_type": "code",
      "source": [
        "# Apply lemmatisation\n",
        "nltk.download('wordnet')\n",
        "from nltk.stem import WordNetLemmatizer\n",
        "\n",
        "def apply_lemmatisation(tokens):\n",
        "  keep = []\n",
        "  lemmatizer = WordNetLemmatizer()\n",
        "  for token in tokens:\n",
        "    keep.append(lemmatizer.lemmatize(token))\n",
        "  return keep\n",
        "\n",
        "twitter_df['clean_text'] = twitter_df['clean_text'].apply(lambda x: apply_lemmatisation(x))\n",
        "\n"
      ],
      "metadata": {
        "id": "uVw-3ZZwVlRF"
      },
      "execution_count": null,
      "outputs": []
    },
    {
      "cell_type": "code",
      "source": [
        "# Function to join lemmatized tokens back into sentences\n",
        "def join_tokens(tokens):\n",
        "    return ' '.join(tokens)\n",
        "\n",
        "# Apply the join_tokens function to the 'cleaned_text' column\n",
        "twitter_df['joined_text'] = twitter_df['clean_text'].apply(join_tokens)\n",
        "\n",
        "# Display the DataFrame with the joined sentences\n",
        "twitter_df"
      ],
      "metadata": {
        "id": "6djVLo9CnTT-"
      },
      "execution_count": null,
      "outputs": []
    },
    {
      "cell_type": "code",
      "source": [
        "final_twitter_df = twitter_df[['joined_text', 'label']]"
      ],
      "metadata": {
        "id": "MwUaDnl7oF5F"
      },
      "execution_count": null,
      "outputs": []
    },
    {
      "cell_type": "code",
      "source": [
        "class_counts = final_twitter_df.label.value_counts()\n",
        "\n",
        "# Lets create a bar plot to visualize the class distribution\n",
        "plt.figure(figsize=(8, 6))\n",
        "sns.barplot(x=class_counts.index, y=class_counts.values)\n",
        "plt.xlabel('Labels')\n",
        "plt.ylabel('Count')\n",
        "plt.title('Class Imbalance Visualization - Twitter')\n",
        "plt.show()\n"
      ],
      "metadata": {
        "colab": {
          "base_uri": "https://localhost:8080/",
          "height": 564
        },
        "id": "JvHjVgrJopaC",
        "outputId": "665d5706-04fa-487d-c7a6-a2502f49397d"
      },
      "execution_count": null,
      "outputs": [
        {
          "output_type": "display_data",
          "data": {
            "text/plain": [
              "<Figure size 800x600 with 1 Axes>"
            ],
            "image/png": "[encoded data removed]"
          },
          "metadata": {}
        }
      ]
    },
    {
      "cell_type": "code",
      "source": [
        "final_twitter_df.to_csv('clean_twitter.csv', index=False)"
      ],
      "metadata": {
        "id": "hScCBqSiohhV"
      },
      "execution_count": null,
      "outputs": []
    },
    {
      "cell_type": "code",
      "source": [
        "# Reading the datset into a dataframe\n",
        "insta2_df = pd.read_csv(\"/content/drive/MyDrive/MSC Data science/Thesis/Final data/instagram.csv\")"
      ],
      "metadata": {
        "id": "sTKtRp1TpIKM"
      },
      "execution_count": null,
      "outputs": []
    },
    {
      "cell_type": "code",
      "source": [
        "class_counts = insta2_df.label.value_counts()\n",
        "\n",
        "# Lets create a bar plot to visualize the class distribution\n",
        "plt.figure(figsize=(8, 6))\n",
        "sns.barplot(x=class_counts.index, y=class_counts.values)\n",
        "plt.xlabel('Labels')\n",
        "plt.ylabel('Count')\n",
        "plt.title('Before: Class Imbalance Visualization - Instagram')\n",
        "plt.show()"
      ],
      "metadata": {
        "colab": {
          "base_uri": "https://localhost:8080/",
          "height": 564
        },
        "id": "zBcjzRBvpKa3",
        "outputId": "1a0d13dd-62dd-4beb-a196-83cebac48dd2"
      },
      "execution_count": null,
      "outputs": [
        {
          "output_type": "display_data",
          "data": {
            "text/plain": [
              "<Figure size 800x600 with 1 Axes>"
            ],
            "image/png": "[encoded data removed]"
          },
          "metadata": {}
        }
      ]
    },
    {
      "cell_type": "code",
      "source": [
        "import pandas as pd\n",
        "import matplotlib.pyplot as plt\n",
        "import seaborn as sns\n",
        "\n",
        "df = pd.read_csv(\"/content/drive/MyDrive/MSC Data science/Thesis/Final data/clean_twitter.csv\")"
      ],
      "metadata": {
        "id": "dxi0oTxQDTD6"
      },
      "execution_count": null,
      "outputs": []
    },
    {
      "cell_type": "code",
      "source": [
        "df.label.value_counts()"
      ],
      "metadata": {
        "colab": {
          "base_uri": "https://localhost:8080/"
        },
        "id": "ljnlBJ33DwKL",
        "outputId": "5f0925ca-d3b6-4cba-8ab2-3194a9638ff1"
      },
      "execution_count": null,
      "outputs": [
        {
          "output_type": "execute_result",
          "data": {
            "text/plain": [
              "cyberbullying        34155\n",
              "non-cyberbullying     4888\n",
              "Name: label, dtype: int64"
            ]
          },
          "metadata": {},
          "execution_count": 16
        }
      ]
    },
    {
      "cell_type": "code",
      "source": [
        "class_counts = df.label.value_counts()\n",
        "\n",
        "# Lets create a bar plot to visualize the class distribution\n",
        "plt.figure(figsize=(8, 6))\n",
        "sns.barplot(x=class_counts.index, y=class_counts.values)\n",
        "plt.xlabel('Labels')\n",
        "plt.ylabel('Count')\n",
        "plt.title('After: Class Imbalance Visualization - Twitter')\n",
        "plt.show()"
      ],
      "metadata": {
        "colab": {
          "base_uri": "https://localhost:8080/",
          "height": 564
        },
        "id": "-1_24A8bDpne",
        "outputId": "bd1cf54c-4414-4f3c-9ee9-fff9a41d8bc5"
      },
      "execution_count": null,
      "outputs": [
        {
          "output_type": "display_data",
          "data": {
            "text/plain": [
              "<Figure size 800x600 with 1 Axes>"
            ],
            "image/png": "[encoded data removed]"
          },
          "metadata": {}
        }
      ]
    },
    {
      "cell_type": "code",
      "source": [
        "plt.figure(figsize=(8, 6))\n",
        "sns.barplot(x=class_counts.index, y=class_counts.values)\n",
        "plt.xlabel('Labels')\n",
        "plt.ylabel('Count')\n",
        "plt.title('After: Class Imbalance Visualization - Twitter')\n",
        "\n",
        "# Adding labels with numbers and percentages\n",
        "for index, value in enumerate(class_counts.values):\n",
        "    percentage = (value / sum(class_counts.values)) * 100\n",
        "    plt.text(index, value + max(class_counts.values)*0.01, f'{value} ({percentage:.2f}%)',\n",
        "             ha='center', va='bottom', fontsize=9, color='black', weight='bold')\n",
        "\n",
        "plt.show()\n",
        "\n"
      ],
      "metadata": {
        "colab": {
          "base_uri": "https://localhost:8080/",
          "height": 564
        },
        "id": "0p9wwFL_MAfx",
        "outputId": "01bfd113-1907-4877-8c43-12be46da2525"
      },
      "execution_count": null,
      "outputs": [
        {
          "output_type": "display_data",
          "data": {
            "text/plain": [
              "<Figure size 800x600 with 1 Axes>"
            ],
            "image/png": "[encoded data removed]"
          },
          "metadata": {}
        }
      ]
    },
    {
      "cell_type": "code",
      "source": [
        "df2 = pd.read_csv(\"/content/drive/MyDrive/MSC Data science/Thesis/Final data/twitter.csv\")\n",
        "class_counts = df2.label.value_counts()\n",
        "\n",
        "# Lets create a bar plot to visualize the class distribution\n",
        "plt.figure(figsize=(8, 6))\n",
        "sns.barplot(x=class_counts.index, y=class_counts.values)\n",
        "plt.xlabel('Labels')\n",
        "plt.ylabel('Count')\n",
        "plt.title('Before: Class Imbalance Visualization - Twitter')\n",
        "\n",
        "# Adding labels with numbers and percentages\n",
        "for index, value in enumerate(class_counts.values):\n",
        "    percentage = (value / sum(class_counts.values)) * 100\n",
        "    plt.text(index, value + max(class_counts.values)*0.01, f'{value} ({percentage:.2f}%)',\n",
        "             ha='center', va='bottom', fontsize=9, color='black', weight='bold')\n",
        "\n",
        "plt.show()\n"
      ],
      "metadata": {
        "colab": {
          "base_uri": "https://localhost:8080/",
          "height": 564
        },
        "id": "kKcbgi6WIp7T",
        "outputId": "7615d7ab-83e1-420e-8a5f-e5643cd02f75"
      },
      "execution_count": null,
      "outputs": [
        {
          "output_type": "display_data",
          "data": {
            "text/plain": [
              "<Figure size 800x600 with 1 Axes>"
            ],
            "image/png": "[encoded data removed]"
          },
          "metadata": {}
        }
      ]
    },
    {
      "cell_type": "code",
      "source": [
        "# Reading the datset into a dataframe\n",
        "insta2_df = pd.read_csv(\"/content/drive/MyDrive/MSC Data science/Thesis/Final data/clean_insta.csv\")"
      ],
      "metadata": {
        "id": "d2nJB3jNE6pN"
      },
      "execution_count": null,
      "outputs": []
    },
    {
      "cell_type": "code",
      "source": [
        "insta2_df.label.value_counts()"
      ],
      "metadata": {
        "colab": {
          "base_uri": "https://localhost:8080/"
        },
        "id": "wJNk7JV3FClj",
        "outputId": "51f6c608-7c48-4d09-bacb-617d387348d0"
      },
      "execution_count": null,
      "outputs": [
        {
          "output_type": "execute_result",
          "data": {
            "text/plain": [
              "non-cyberbullying    4234\n",
              "cyberbullying        1384\n",
              "Name: label, dtype: int64"
            ]
          },
          "metadata": {},
          "execution_count": 10
        }
      ]
    },
    {
      "cell_type": "code",
      "source": [
        "class_counts = insta2_df.label.value_counts()\n",
        "\n",
        "# Lets create a bar plot to visualize the class distribution\n",
        "plt.figure(figsize=(8, 6))\n",
        "sns.barplot(x=class_counts.index, y=class_counts.values)\n",
        "plt.xlabel('Labels')\n",
        "plt.ylabel('Count')\n",
        "plt.title('After: Class Imbalance Visualization - Instagram')\n",
        "\n",
        "# Adding labels with numbers and percentages\n",
        "for index, value in enumerate(class_counts.values):\n",
        "    percentage = (value / sum(class_counts.values)) * 100\n",
        "    plt.text(index, value + max(class_counts.values)*0.01, f'{value} ({percentage:.2f}%)',\n",
        "             ha='center', va='bottom', fontsize=9, color='black', weight='bold')\n",
        "\n",
        "plt.show()"
      ],
      "metadata": {
        "colab": {
          "base_uri": "https://localhost:8080/",
          "height": 564
        },
        "id": "3QYiP14wJPDx",
        "outputId": "8024996a-a0c8-452f-9b40-941c0ffd8ab5"
      },
      "execution_count": null,
      "outputs": [
        {
          "output_type": "display_data",
          "data": {
            "text/plain": [
              "<Figure size 800x600 with 1 Axes>"
            ],
            "image/png": "[encoded data removed]"
          },
          "metadata": {}
        }
      ]
    },
    {
      "cell_type": "code",
      "source": [
        "# Reading the datset into a dataframe\n",
        "insta_df = pd.read_csv(\"/content/drive/MyDrive/MSC Data science/Thesis/Final data/instagram.csv\")"
      ],
      "metadata": {
        "id": "GKJbJAn1JjwB"
      },
      "execution_count": null,
      "outputs": []
    },
    {
      "cell_type": "code",
      "source": [
        "class_counts = insta_df.label.value_counts()\n",
        "\n",
        "# Lets create a bar plot to visualize the class distribution\n",
        "plt.figure(figsize=(8, 6))\n",
        "sns.barplot(x=class_counts.index, y=class_counts.values)\n",
        "plt.xlabel('Labels')\n",
        "plt.ylabel('Count')\n",
        "plt.title('Before: Class Imbalance Visualization - Instagram')\n",
        "\n",
        "# Adding labels with numbers and percentages\n",
        "for index, value in enumerate(class_counts.values):\n",
        "    percentage = (value / sum(class_counts.values)) * 100\n",
        "    plt.text(index, value + max(class_counts.values)*0.01, f'{value} ({percentage:.2f}%)',\n",
        "             ha='center', va='bottom', fontsize=9, color='black', weight='bold')\n",
        "\n",
        "plt.show()"
      ],
      "metadata": {
        "colab": {
          "base_uri": "https://localhost:8080/",
          "height": 564
        },
        "id": "lYV900uHJk5G",
        "outputId": "2394767c-a80a-4723-baee-3b365f83aa2b"
      },
      "execution_count": null,
      "outputs": [
        {
          "output_type": "display_data",
          "data": {
            "text/plain": [
              "<Figure size 800x600 with 1 Axes>"
            ],
            "image/png": "[encoded data removed]"
          },
          "metadata": {}
        }
      ]
    }
  ]
}