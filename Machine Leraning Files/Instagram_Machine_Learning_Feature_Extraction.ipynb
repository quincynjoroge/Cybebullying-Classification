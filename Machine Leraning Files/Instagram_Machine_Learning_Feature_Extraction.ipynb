{
  "nbformat": 4,
  "nbformat_minor": 0,
  "metadata": {
    "colab": {
      "provenance": []
    },
    "kernelspec": {
      "name": "python3",
      "display_name": "Python 3"
    },
    "language_info": {
      "name": "python"
    }
  },
  "cells": [
    {
      "cell_type": "markdown",
      "source": [
        "# Machine Learning"
      ],
      "metadata": {
        "id": "tl5ZjF5R61D_"
      }
    },
    {
      "cell_type": "markdown",
      "source": [
        "# Bag of Words Extraction"
      ],
      "metadata": {
        "id": "_ELi2Mmt66gq"
      }
    },
    {
      "cell_type": "code",
      "source": [
        "import numpy as np\n",
        "import pandas as pd\n",
        "from sklearn.model_selection import train_test_split\n",
        "from sklearn.feature_extraction.text import CountVectorizer\n",
        "from imblearn.over_sampling import SMOTE\n",
        "from sklearn.svm import SVC\n",
        "from sklearn.linear_model import LogisticRegression\n",
        "from sklearn.naive_bayes import MultinomialNB\n",
        "from sklearn.metrics import classification_report\n",
        "\n",
        "# Load your dataset\n",
        "insta_df = pd.read_csv('/content/drive/MyDrive/MSC Data science/Thesis/Final data/clean_insta.csv')\n",
        "#rename column\n",
        "insta_df.rename(columns={\"joined_text\":\"text\"},inplace=True)"
      ],
      "metadata": {
        "id": "0afTMS77b9FS"
      },
      "execution_count": null,
      "outputs": []
    },
    {
      "cell_type": "code",
      "source": [
        "# Drop rows with NaN values from 'text' column\n",
        "insta_df.dropna(subset=['text'], inplace=True)"
      ],
      "metadata": {
        "id": "UDpjjzpmbxzx"
      },
      "execution_count": null,
      "outputs": []
    },
    {
      "cell_type": "code",
      "source": [
        "X = insta_df['text']\n",
        "# #encode for train\n",
        "y,class_names = pd.factorize(insta_df['label'])\n",
        "\n",
        "# Splitting the data into 80-20 train-test split\n",
        "X_train,X_test,y_train,y_test = train_test_split(X,y, test_size=0.2, random_state=42)\n",
        "\n",
        "print(X_train.shape)\n",
        "print(X_test.shape)\n",
        "print(y_train.shape)\n",
        "print(y_test.shape)\n",
        "\n"
      ],
      "metadata": {
        "colab": {
          "base_uri": "https://localhost:8080/"
        },
        "id": "S_3V8k3W7D58",
        "outputId": "0998f5d3-5836-4138-8b95-46f3cf975a38"
      },
      "execution_count": null,
      "outputs": [
        {
          "output_type": "stream",
          "name": "stdout",
          "text": [
            "(4488,)\n",
            "(1122,)\n",
            "(4488,)\n",
            "(1122,)\n"
          ]
        }
      ]
    },
    {
      "cell_type": "code",
      "source": [
        "# Apply CountVectorizer to text data\n",
        "count_vectorizer = CountVectorizer(max_features=5000) # max_features\n",
        "X_train_counts = count_vectorizer.fit_transform(X_train)\n",
        "X_test_counts = count_vectorizer.transform(X_test)"
      ],
      "metadata": {
        "id": "OnEyvyzqN0ds"
      },
      "execution_count": null,
      "outputs": []
    },
    {
      "cell_type": "code",
      "source": [
        "# Apply SMOTE to handle class imbalance\n",
        "smote = SMOTE(random_state=42)\n",
        "X_train_resampled, y_train_resampled = smote.fit_resample(X_train_counts, y_train)"
      ],
      "metadata": {
        "id": "ZyXyx7B2N8Nk"
      },
      "execution_count": null,
      "outputs": []
    },
    {
      "cell_type": "code",
      "source": [
        "import matplotlib.pyplot as plt\n",
        "import numpy as np\n",
        "\n",
        "# Assuming you have the classes labeled as 0 and 1\n",
        "original_class_counts = np.bincount(y_train)\n",
        "resampled_class_counts = np.bincount(y_train_resampled)\n",
        "\n",
        "plt.figure(figsize=(10, 6))\n",
        "plt.bar(['Class 0', 'Class 1'], original_class_counts, color='b', alpha=0.6, label='Before SMOTE')\n",
        "plt.bar(['Class 0', 'Class 1'], resampled_class_counts, color='r', alpha=0.6, label='After SMOTE')\n",
        "plt.xlabel('Class')\n",
        "plt.ylabel('Count')\n",
        "plt.title('Class Distribution Before and After SMOTE')\n",
        "plt.legend()\n",
        "plt.show()\n"
      ],
      "metadata": {
        "colab": {
          "base_uri": "https://localhost:8080/",
          "height": 564
        },
        "id": "GxxrmzdQ9G0M",
        "outputId": "a3bcbbdc-de20-4381-aef3-f2a1dc66761b"
      },
      "execution_count": null,
      "outputs": [
        {
          "output_type": "display_data",
          "data": {
            "text/plain": [
              "<Figure size 1000x600 with 1 Axes>"
            ],
            "image/png": "[encoded data removed]"
          },
          "metadata": {}
        }
      ]
    },
    {
      "cell_type": "code",
      "source": [
        "# Support Vector Machine (SVM)\n",
        "svm_model = SVC(kernel='linear', C=1)\n",
        "svm_model.fit(X_train_resampled, y_train_resampled)\n",
        "svm_predictions = svm_model.predict(X_test_counts)\n",
        "\n",
        "print(\"Support Vector Machine (SVM) Classification Report:\")\n",
        "print(classification_report(y_test, svm_predictions))"
      ],
      "metadata": {
        "colab": {
          "base_uri": "https://localhost:8080/"
        },
        "id": "rdPl21Gb-Rrg",
        "outputId": "2ddc5137-745c-47b3-9f3a-0010859e681f"
      },
      "execution_count": null,
      "outputs": [
        {
          "output_type": "stream",
          "name": "stdout",
          "text": [
            "Support Vector Machine (SVM) Classification Report:\n",
            "              precision    recall  f1-score   support\n",
            "\n",
            "           0       0.85      0.72      0.78       843\n",
            "           1       0.42      0.62      0.50       279\n",
            "\n",
            "    accuracy                           0.69      1122\n",
            "   macro avg       0.63      0.67      0.64      1122\n",
            "weighted avg       0.74      0.69      0.71      1122\n",
            "\n"
          ]
        }
      ]
    },
    {
      "cell_type": "code",
      "source": [
        "# Logistic Regression\n",
        "logreg_model = LogisticRegression(max_iter=1000, C=1)\n",
        "logreg_model.fit(X_train_resampled, y_train_resampled)\n",
        "logreg_predictions = logreg_model.predict(X_test_counts)\n",
        "\n",
        "print(\"Logistic Regression Classification Report:\")\n",
        "print(classification_report(y_test, logreg_predictions))"
      ],
      "metadata": {
        "colab": {
          "base_uri": "https://localhost:8080/"
        },
        "id": "Eg-Xa-Qj-RgE",
        "outputId": "bf1a81bd-8de1-47b4-fb0a-e4d1057deb04"
      },
      "execution_count": null,
      "outputs": [
        {
          "output_type": "stream",
          "name": "stdout",
          "text": [
            "Logistic Regression Classification Report:\n",
            "              precision    recall  f1-score   support\n",
            "\n",
            "           0       0.86      0.77      0.81       843\n",
            "           1       0.47      0.61      0.53       279\n",
            "\n",
            "    accuracy                           0.73      1122\n",
            "   macro avg       0.66      0.69      0.67      1122\n",
            "weighted avg       0.76      0.73      0.74      1122\n",
            "\n"
          ]
        }
      ]
    },
    {
      "cell_type": "code",
      "source": [
        "# Naive Bayes\n",
        "naive_bayes_model = MultinomialNB(alpha=1.0)\n",
        "naive_bayes_model.fit(X_train_resampled, y_train_resampled)\n",
        "naive_bayes_predictions = naive_bayes_model.predict(X_test_counts)\n",
        "\n",
        "print(\"Naive Bayes Classification Report:\")\n",
        "print(classification_report(y_test, naive_bayes_predictions))"
      ],
      "metadata": {
        "colab": {
          "base_uri": "https://localhost:8080/"
        },
        "id": "qhlm5aeO-RQH",
        "outputId": "1700e474-4f2e-460a-c3c2-4739a22ef6a3"
      },
      "execution_count": null,
      "outputs": [
        {
          "output_type": "stream",
          "name": "stdout",
          "text": [
            "Naive Bayes Classification Report:\n",
            "              precision    recall  f1-score   support\n",
            "\n",
            "           0       0.88      0.81      0.84       843\n",
            "           1       0.53      0.66      0.59       279\n",
            "\n",
            "    accuracy                           0.77      1122\n",
            "   macro avg       0.71      0.73      0.72      1122\n",
            "weighted avg       0.79      0.77      0.78      1122\n",
            "\n"
          ]
        }
      ]
    },
    {
      "cell_type": "markdown",
      "source": [
        "## TFIDF"
      ],
      "metadata": {
        "id": "VJOHR126SjQ0"
      }
    },
    {
      "cell_type": "code",
      "source": [
        "from sklearn.feature_extraction.text import TfidfVectorizer\n",
        "\n",
        "# Apply TF-IDF vectorization to text data\n",
        "tfidf_vectorizer = TfidfVectorizer(max_features=5000)  # max_features\n",
        "X_train_tfidf = tfidf_vectorizer.fit_transform(X_train)\n",
        "X_test_tfidf = tfidf_vectorizer.transform(X_test)"
      ],
      "metadata": {
        "id": "7WpISWR1TFaa"
      },
      "execution_count": null,
      "outputs": []
    },
    {
      "cell_type": "code",
      "source": [
        "# Apply SMOTE to handle class imbalance\n",
        "smote = SMOTE(random_state=42)\n",
        "X_train_resampled, y_train_resampled = smote.fit_resample(X_train_tfidf, y_train)"
      ],
      "metadata": {
        "id": "SbAF1POCSk6H"
      },
      "execution_count": null,
      "outputs": []
    },
    {
      "cell_type": "code",
      "source": [
        "# Support Vector Machine (SVM)\n",
        "svm_model = SVC(kernel='linear', C=1)\n",
        "svm_model.fit(X_train_resampled, y_train_resampled)\n",
        "svm_predictions = svm_model.predict(X_test_tfidf)\n",
        "\n",
        "print(\"Support Vector Machine (SVM) Classification Report:\")\n",
        "print(classification_report(y_test, svm_predictions))"
      ],
      "metadata": {
        "id": "fSWUmmLLSxv4",
        "colab": {
          "base_uri": "https://localhost:8080/"
        },
        "outputId": "61c5f973-6615-4b5a-b69a-fe036f0127dd"
      },
      "execution_count": null,
      "outputs": [
        {
          "output_type": "stream",
          "name": "stdout",
          "text": [
            "Support Vector Machine (SVM) Classification Report:\n",
            "              precision    recall  f1-score   support\n",
            "\n",
            "           0       0.86      0.84      0.85       843\n",
            "           1       0.56      0.60      0.58       279\n",
            "\n",
            "    accuracy                           0.78      1122\n",
            "   macro avg       0.71      0.72      0.72      1122\n",
            "weighted avg       0.79      0.78      0.79      1122\n",
            "\n"
          ]
        }
      ]
    },
    {
      "cell_type": "code",
      "source": [
        "# Logistic Regression\n",
        "logreg_model = LogisticRegression(max_iter=1000, C=1)\n",
        "logreg_model.fit(X_train_resampled, y_train_resampled)\n",
        "logreg_predictions = logreg_model.predict(X_test_tfidf)\n",
        "\n",
        "print(\"Logistic Regression Classification Report:\")\n",
        "print(classification_report(y_test, logreg_predictions))"
      ],
      "metadata": {
        "id": "2Cn3Ik3ZS0Qf",
        "colab": {
          "base_uri": "https://localhost:8080/"
        },
        "outputId": "b44d6acd-6eab-4047-df03-cd7336c50d4d"
      },
      "execution_count": null,
      "outputs": [
        {
          "output_type": "stream",
          "name": "stdout",
          "text": [
            "Logistic Regression Classification Report:\n",
            "              precision    recall  f1-score   support\n",
            "\n",
            "           0       0.87      0.87      0.87       843\n",
            "           1       0.61      0.61      0.61       279\n",
            "\n",
            "    accuracy                           0.81      1122\n",
            "   macro avg       0.74      0.74      0.74      1122\n",
            "weighted avg       0.81      0.81      0.81      1122\n",
            "\n"
          ]
        }
      ]
    },
    {
      "cell_type": "code",
      "source": [
        "# Naive Bayes\n",
        "naive_bayes_model = MultinomialNB(alpha=1.0)\n",
        "naive_bayes_model.fit(X_train_resampled, y_train_resampled)\n",
        "naive_bayes_predictions = naive_bayes_model.predict(X_test_tfidf)\n",
        "\n",
        "print(\"Naive Bayes Classification Report:\")\n",
        "print(classification_report(y_test, naive_bayes_predictions))"
      ],
      "metadata": {
        "id": "NO9_pi7dS3cF",
        "colab": {
          "base_uri": "https://localhost:8080/"
        },
        "outputId": "f9759a91-2198-4b9c-e517-a18b091e9f5b"
      },
      "execution_count": null,
      "outputs": [
        {
          "output_type": "stream",
          "name": "stdout",
          "text": [
            "Naive Bayes Classification Report:\n",
            "              precision    recall  f1-score   support\n",
            "\n",
            "           0       0.90      0.73      0.81       843\n",
            "           1       0.48      0.75      0.59       279\n",
            "\n",
            "    accuracy                           0.74      1122\n",
            "   macro avg       0.69      0.74      0.70      1122\n",
            "weighted avg       0.80      0.74      0.75      1122\n",
            "\n"
          ]
        }
      ]
    }
  ]
}