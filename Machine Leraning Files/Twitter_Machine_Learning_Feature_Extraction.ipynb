{
  "nbformat": 4,
  "nbformat_minor": 0,
  "metadata": {
    "colab": {
      "provenance": []
    },
    "kernelspec": {
      "name": "python3",
      "display_name": "Python 3"
    },
    "language_info": {
      "name": "python"
    }
  },
  "cells": [
    {
      "cell_type": "markdown",
      "source": [
        "# Machine Learning"
      ],
      "metadata": {
        "id": "tl5ZjF5R61D_"
      }
    },
    {
      "cell_type": "markdown",
      "source": [
        "# Bag of Words Extraction"
      ],
      "metadata": {
        "id": "_ELi2Mmt66gq"
      }
    },
    {
      "cell_type": "code",
      "source": [
        "# importing necessary libraries\n",
        "import numpy as np\n",
        "import pandas as pd\n",
        "from sklearn.model_selection import train_test_split\n",
        "from sklearn.feature_extraction.text import CountVectorizer\n",
        "from imblearn.over_sampling import SMOTE\n",
        "from sklearn.svm import SVC\n",
        "from sklearn.linear_model import LogisticRegression\n",
        "from sklearn.naive_bayes import MultinomialNB\n",
        "from sklearn.metrics import classification_report\n",
        "\n",
        "# Load your dataset\n",
        "twitter_df = pd.read_csv('/content/drive/MyDrive/MSC Data science/Thesis/Final data/clean_twitter.csv')\n",
        "#rename column\n",
        "twitter_df.rename(columns={\"joined_text\":\"text\"},inplace=True)\n",
        "\n",
        "X = twitter_df['text']\n",
        "#encode for train\n",
        "y,class_names = pd.factorize(twitter_df['label'])\n",
        "\n",
        "# Splitting the data into 80-20 train-test split\n",
        "X_train,X_test,y_train,y_test = train_test_split(X,y, test_size=0.2, random_state=42)\n",
        "\n",
        "print(X_train.shape)\n",
        "print(X_test.shape)\n",
        "print(y_train.shape)\n",
        "print(y_test.shape)\n",
        "\n"
      ],
      "metadata": {
        "colab": {
          "base_uri": "https://localhost:8080/"
        },
        "id": "S_3V8k3W7D58",
        "outputId": "1c16e12a-b3b1-4a9e-ccbb-1b396372707b"
      },
      "execution_count": 1,
      "outputs": [
        {
          "output_type": "stream",
          "name": "stdout",
          "text": [
            "(31234,)\n",
            "(7809,)\n",
            "(31234,)\n",
            "(7809,)\n"
          ]
        }
      ]
    },
    {
      "cell_type": "code",
      "source": [
        "# Apply CountVectorizer to text data\n",
        "count_vectorizer = CountVectorizer(max_features=5000) # max_features\n",
        "X_train_counts = count_vectorizer.fit_transform(X_train)\n",
        "X_test_counts = count_vectorizer.transform(X_test)\n",
        "\n",
        "# Apply SMOTE to handle class imbalance\n",
        "smote = SMOTE(random_state=42)\n",
        "X_train_resampled, y_train_resampled = smote.fit_resample(X_train_counts, y_train)\n",
        "\n",
        "# Support Vector Machine (SVM)\n",
        "svm_model = SVC(kernel='linear', C=1)\n",
        "svm_model.fit(X_train_resampled, y_train_resampled)\n",
        "svm_predictions = svm_model.predict(X_test_counts)\n",
        "\n",
        "print(\"Support Vector Machine (SVM) Classification Report:\")\n",
        "print(classification_report(y_test, svm_predictions))"
      ],
      "metadata": {
        "id": "OnEyvyzqN0ds",
        "colab": {
          "base_uri": "https://localhost:8080/"
        },
        "outputId": "2011539f-a2f8-4834-a909-7ec24fd8f35e"
      },
      "execution_count": 2,
      "outputs": [
        {
          "output_type": "stream",
          "name": "stdout",
          "text": [
            "Support Vector Machine (SVM) Classification Report:\n",
            "              precision    recall  f1-score   support\n",
            "\n",
            "           0       0.93      0.92      0.92      6812\n",
            "           1       0.48      0.51      0.49       997\n",
            "\n",
            "    accuracy                           0.87      7809\n",
            "   macro avg       0.70      0.71      0.71      7809\n",
            "weighted avg       0.87      0.87      0.87      7809\n",
            "\n"
          ]
        }
      ]
    },
    {
      "cell_type": "code",
      "source": [
        "# Logistic Regression\n",
        "logreg_model = LogisticRegression(max_iter=1000, C=1)\n",
        "logreg_model.fit(X_train_resampled, y_train_resampled)\n",
        "logreg_predictions = logreg_model.predict(X_test_counts)\n",
        "\n",
        "print(\"Logistic Regression Classification Report:\")\n",
        "print(classification_report(y_test, logreg_predictions))"
      ],
      "metadata": {
        "colab": {
          "base_uri": "https://localhost:8080/"
        },
        "id": "Eg-Xa-Qj-RgE",
        "outputId": "78dc11c2-24b0-416f-cce1-3c3773df255a"
      },
      "execution_count": null,
      "outputs": [
        {
          "output_type": "stream",
          "name": "stdout",
          "text": [
            "Logistic Regression Classification Report:\n",
            "              precision    recall  f1-score   support\n",
            "\n",
            "           0       0.94      0.91      0.92      6812\n",
            "           1       0.49      0.58      0.53       997\n",
            "\n",
            "    accuracy                           0.87      7809\n",
            "   macro avg       0.71      0.75      0.73      7809\n",
            "weighted avg       0.88      0.87      0.87      7809\n",
            "\n"
          ]
        }
      ]
    },
    {
      "cell_type": "code",
      "source": [
        "# Naive Bayes\n",
        "naive_bayes_model = MultinomialNB(alpha=1.0)\n",
        "naive_bayes_model.fit(X_train_resampled, y_train_resampled)\n",
        "naive_bayes_predictions = naive_bayes_model.predict(X_test_counts)\n",
        "\n",
        "print(\"Naive Bayes Classification Report:\")\n",
        "print(classification_report(y_test, naive_bayes_predictions))"
      ],
      "metadata": {
        "colab": {
          "base_uri": "https://localhost:8080/"
        },
        "id": "qhlm5aeO-RQH",
        "outputId": "43ac79aa-5113-4121-8b8a-5f9e9575ebe2"
      },
      "execution_count": null,
      "outputs": [
        {
          "output_type": "stream",
          "name": "stdout",
          "text": [
            "Naive Bayes Classification Report:\n",
            "              precision    recall  f1-score   support\n",
            "\n",
            "           0       0.94      0.88      0.91      6812\n",
            "           1       0.43      0.62      0.51       997\n",
            "\n",
            "    accuracy                           0.85      7809\n",
            "   macro avg       0.69      0.75      0.71      7809\n",
            "weighted avg       0.88      0.85      0.86      7809\n",
            "\n"
          ]
        }
      ]
    },
    {
      "cell_type": "markdown",
      "source": [
        "## TFIDF"
      ],
      "metadata": {
        "id": "VJOHR126SjQ0"
      }
    },
    {
      "cell_type": "code",
      "source": [
        "from sklearn.feature_extraction.text import TfidfVectorizer\n",
        "\n",
        "# Apply TF-IDF vectorization to text data\n",
        "tfidf_vectorizer = TfidfVectorizer(max_features=5000)  # max_features\n",
        "X_train_tfidf = tfidf_vectorizer.fit_transform(X_train)\n",
        "X_test_tfidf = tfidf_vectorizer.transform(X_test)"
      ],
      "metadata": {
        "id": "7WpISWR1TFaa"
      },
      "execution_count": null,
      "outputs": []
    },
    {
      "cell_type": "code",
      "source": [
        "# Apply SMOTE to handle class imbalance\n",
        "smote = SMOTE(random_state=42)\n",
        "X_train_resampled, y_train_resampled = smote.fit_resample(X_train_tfidf, y_train)"
      ],
      "metadata": {
        "id": "SbAF1POCSk6H"
      },
      "execution_count": null,
      "outputs": []
    },
    {
      "cell_type": "code",
      "source": [
        "# Support Vector Machine (SVM)\n",
        "svm_model = SVC(kernel='linear', C=1)\n",
        "svm_model.fit(X_train_resampled, y_train_resampled)\n",
        "svm_predictions = svm_model.predict(X_test_tfidf)\n",
        "\n",
        "print(\"Support Vector Machine (SVM) Classification Report:\")\n",
        "print(classification_report(y_test, svm_predictions))"
      ],
      "metadata": {
        "colab": {
          "base_uri": "https://localhost:8080/"
        },
        "id": "fSWUmmLLSxv4",
        "outputId": "e327c678-1607-4190-d56e-6384809dcf52"
      },
      "execution_count": null,
      "outputs": [
        {
          "output_type": "stream",
          "name": "stdout",
          "text": [
            "Support Vector Machine (SVM) Classification Report:\n",
            "              precision    recall  f1-score   support\n",
            "\n",
            "           0       0.96      0.85      0.90      6812\n",
            "           1       0.42      0.77      0.55       997\n",
            "\n",
            "    accuracy                           0.84      7809\n",
            "   macro avg       0.69      0.81      0.72      7809\n",
            "weighted avg       0.89      0.84      0.86      7809\n",
            "\n"
          ]
        }
      ]
    },
    {
      "cell_type": "code",
      "source": [
        "# Logistic Regression\n",
        "logreg_model = LogisticRegression(max_iter=1000, C=1)\n",
        "logreg_model.fit(X_train_resampled, y_train_resampled)\n",
        "logreg_predictions = logreg_model.predict(X_test_tfidf)\n",
        "\n",
        "print(\"Logistic Regression Classification Report:\")\n",
        "print(classification_report(y_test, logreg_predictions))"
      ],
      "metadata": {
        "colab": {
          "base_uri": "https://localhost:8080/"
        },
        "id": "2Cn3Ik3ZS0Qf",
        "outputId": "812d1e94-e8dd-4e94-9875-c9b7e83b3270"
      },
      "execution_count": null,
      "outputs": [
        {
          "output_type": "stream",
          "name": "stdout",
          "text": [
            "Logistic Regression Classification Report:\n",
            "              precision    recall  f1-score   support\n",
            "\n",
            "           0       0.96      0.84      0.90      6812\n",
            "           1       0.42      0.79      0.55       997\n",
            "\n",
            "    accuracy                           0.84      7809\n",
            "   macro avg       0.69      0.82      0.72      7809\n",
            "weighted avg       0.90      0.84      0.85      7809\n",
            "\n"
          ]
        }
      ]
    },
    {
      "cell_type": "code",
      "source": [
        "# Naive Bayes\n",
        "naive_bayes_model = MultinomialNB(alpha=1.0)\n",
        "naive_bayes_model.fit(X_train_resampled, y_train_resampled)\n",
        "naive_bayes_predictions = naive_bayes_model.predict(X_test_tfidf)\n",
        "\n",
        "print(\"Naive Bayes Classification Report:\")\n",
        "print(classification_report(y_test, naive_bayes_predictions))"
      ],
      "metadata": {
        "colab": {
          "base_uri": "https://localhost:8080/"
        },
        "id": "NO9_pi7dS3cF",
        "outputId": "4e55e1ae-92d1-4acd-998d-9ca4b08f280b"
      },
      "execution_count": null,
      "outputs": [
        {
          "output_type": "stream",
          "name": "stdout",
          "text": [
            "Naive Bayes Classification Report:\n",
            "              precision    recall  f1-score   support\n",
            "\n",
            "           0       0.94      0.86      0.90      6812\n",
            "           1       0.40      0.64      0.49       997\n",
            "\n",
            "    accuracy                           0.83      7809\n",
            "   macro avg       0.67      0.75      0.70      7809\n",
            "weighted avg       0.87      0.83      0.85      7809\n",
            "\n"
          ]
        }
      ]
    }
  ]
}